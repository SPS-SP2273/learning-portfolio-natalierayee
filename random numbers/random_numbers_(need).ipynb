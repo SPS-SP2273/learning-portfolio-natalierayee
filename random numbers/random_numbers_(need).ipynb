{
 "cells": [
  {
   "cell_type": "markdown",
   "id": "123456",
   "metadata": {},
   "source": [
    "<div style=\"text-align:left;font-size:2em\"><span style=\"font-weight:bolder;font-size:1.25em\">SP2273 | Learning Portfolio</span><br><br><span style=\"font-weight:bold;color:darkred\">Random Numbers (Need)</span></div>"
   ]
  },
  {
   "cell_type": "markdown",
   "id": "1a396a9d",
   "metadata": {},
   "source": [
    "## 1 Random Numbers"
   ]
  },
  {
   "cell_type": "markdown",
   "id": "4eb679d9",
   "metadata": {},
   "source": [
    "### 1.1 Real and Pseudo Random Numbers"
   ]
  },
  {
   "cell_type": "code",
   "execution_count": null,
   "id": "83de8286",
   "metadata": {},
   "outputs": [],
   "source": [
    "\n",
    "# Your code here\n"
   ]
  },
  {
   "cell_type": "markdown",
   "id": "16499a62",
   "metadata": {},
   "source": [
    "### 1.2 NumPy’s PRNG"
   ]
  },
  {
   "cell_type": "code",
   "execution_count": 2,
   "id": "f37ab9d5",
   "metadata": {},
   "outputs": [
    {
     "data": {
      "text/plain": [
       "array([[0.76008199, 0.57995641],\n",
       "       [0.75665133, 0.41342576],\n",
       "       [0.01519082, 0.9252628 ],\n",
       "       [0.45090601, 0.38762213],\n",
       "       [0.63746531, 0.13211897]])"
      ]
     },
     "execution_count": 2,
     "metadata": {},
     "output_type": "execute_result"
    }
   ],
   "source": [
    "import numpy as np\n",
    "np.random.rand()      # Give one number\n",
    "np.random.rand(5,2)             # Give five sets of 2"
   ]
  },
  {
   "cell_type": "code",
   "execution_count": 3,
   "id": "aed24038",
   "metadata": {},
   "outputs": [
    {
     "data": {
      "text/plain": [
       "50.11"
      ]
     },
     "execution_count": 3,
     "metadata": {},
     "output_type": "execute_result"
    }
   ],
   "source": [
    "n = 10000\n",
    "random_numbers = np.random.rand(n)\n",
    "# The numbers less than .5 must be about 50%\n",
    "np.sum(random_numbers < .5) / n * 100"
   ]
  },
  {
   "cell_type": "markdown",
   "id": "b9c5cbd3",
   "metadata": {},
   "source": [
    "### 1.3 A simple graphical test"
   ]
  },
  {
   "cell_type": "code",
   "execution_count": null,
   "id": "80cfe861",
   "metadata": {},
   "outputs": [],
   "source": [
    "\n",
    "# Your code here\n"
   ]
  },
  {
   "cell_type": "markdown",
   "id": "aa5b7bf8",
   "metadata": {},
   "source": [
    "### 1.4 Uniformly beyond \\([0,1)\\)"
   ]
  },
  {
   "cell_type": "code",
   "execution_count": null,
   "id": "ea8d3489",
   "metadata": {},
   "outputs": [],
   "source": [
    "\n",
    "# Your code here\n"
   ]
  },
  {
   "cell_type": "markdown",
   "id": "18bf7057",
   "metadata": {},
   "source": [
    "### 1.5 ‘seeding’ a PRNG"
   ]
  },
  {
   "cell_type": "code",
   "execution_count": null,
   "id": "f0267449",
   "metadata": {},
   "outputs": [],
   "source": [
    "\n",
    "# Your code here\n"
   ]
  },
  {
   "cell_type": "markdown",
   "id": "6c4b0705",
   "metadata": {},
   "source": [
    "## 2 Simulating a Magic-8 Ball"
   ]
  },
  {
   "cell_type": "markdown",
   "id": "9a4b7edf",
   "metadata": {},
   "source": [
    "## 3 Flipping Coins"
   ]
  },
  {
   "cell_type": "markdown",
   "id": "909ab511",
   "metadata": {},
   "source": [
    "### 3.1 A fair coin"
   ]
  },
  {
   "cell_type": "code",
   "execution_count": null,
   "id": "26a96dca",
   "metadata": {},
   "outputs": [],
   "source": [
    "\n",
    "# Your code here\n"
   ]
  },
  {
   "cell_type": "markdown",
   "id": "bf6a2ea8",
   "metadata": {},
   "source": [
    "### 3.2 A biased coin"
   ]
  },
  {
   "cell_type": "code",
   "execution_count": null,
   "id": "713c0a55",
   "metadata": {},
   "outputs": [],
   "source": [
    "\n",
    "# Your code here\n"
   ]
  },
  {
   "cell_type": "markdown",
   "id": "5611848f",
   "metadata": {},
   "source": [
    "### 3.3 A flipping experiment"
   ]
  },
  {
   "cell_type": "code",
   "execution_count": null,
   "id": "03f60717",
   "metadata": {},
   "outputs": [],
   "source": [
    "\n",
    "# Your code here\n"
   ]
  },
  {
   "cell_type": "markdown",
   "id": "f5748e88",
   "metadata": {},
   "source": [
    "## Exercise 1 :  12C, 13C"
   ]
  },
  {
   "cell_type": "code",
   "execution_count": null,
   "id": "13f5db7b",
   "metadata": {},
   "outputs": [],
   "source": [
    "\n",
    "\n",
    "\n",
    "# Your solution here\n",
    "\n",
    "\n"
   ]
  }
 ],
 "metadata": {
  "kernelspec": {
   "display_name": "Python 3 (ipykernel)",
   "language": "python",
   "name": "python3"
  },
  "language_info": {
   "codemirror_mode": {
    "name": "ipython",
    "version": 3
   },
   "file_extension": ".py",
   "mimetype": "text/x-python",
   "name": "python",
   "nbconvert_exporter": "python",
   "pygments_lexer": "ipython3",
   "version": "3.10.8"
  },
  "toc": {
   "base_numbering": 1,
   "nav_menu": {},
   "number_sections": true,
   "sideBar": true,
   "skip_h1_title": false,
   "title_cell": "Table of Contents",
   "title_sidebar": "Contents",
   "toc_cell": false,
   "toc_position": {},
   "toc_section_display": true,
   "toc_window_display": false
  },
  "vscode": {
   "interpreter": {
    "hash": "31f2aee4e71d21fbe5cf8b01ff0e069b9275f58929596ceb00d14d90e3e16cd6"
   }
  }
 },
 "nbformat": 4,
 "nbformat_minor": 5
}
