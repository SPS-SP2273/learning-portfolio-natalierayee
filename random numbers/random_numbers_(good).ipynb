{
 "cells": [
  {
   "cell_type": "markdown",
   "id": "123456",
   "metadata": {},
   "source": [
    "<div style=\"text-align:left;font-size:2em\"><span style=\"font-weight:bolder;font-size:1.25em\">SP2273 | Learning Portfolio</span><br><br><span style=\"font-weight:bold;color:darkred\">Random Numbers (Good)</span></div>"
   ]
  },
  {
   "cell_type": "markdown",
   "id": "ac29293d",
   "metadata": {},
   "source": [
    "## 1 Random numbers from other distributions"
   ]
  },
  {
   "cell_type": "markdown",
   "id": "d94af7c1",
   "metadata": {},
   "source": [
    "### 1.1 Random numbers from the Normal distribution"
   ]
  },
  {
   "cell_type": "code",
   "execution_count": null,
   "id": "a14237a7",
   "metadata": {},
   "outputs": [],
   "source": [
    "\n",
    "# Your code here\n"
   ]
  },
  {
   "cell_type": "markdown",
   "id": "42c690e0",
   "metadata": {},
   "source": [
    "### 1.2 Visualising the random numbers"
   ]
  },
  {
   "cell_type": "code",
   "execution_count": null,
   "id": "2bd6828d",
   "metadata": {},
   "outputs": [],
   "source": [
    "\n",
    "# Your code here\n"
   ]
  },
  {
   "cell_type": "markdown",
   "id": "53e4f9e7",
   "metadata": {},
   "source": [
    "### 1.3 68%?"
   ]
  },
  {
   "cell_type": "code",
   "execution_count": null,
   "id": "7058668c",
   "metadata": {},
   "outputs": [],
   "source": [
    "\n",
    "# Your code here\n"
   ]
  },
  {
   "cell_type": "markdown",
   "id": "e7199612",
   "metadata": {},
   "source": [
    "## 1 Brownian Motion in 1D"
   ]
  },
  {
   "cell_type": "markdown",
   "id": "cdc9f287",
   "metadata": {},
   "source": [
    "### 1.1 The scenario"
   ]
  },
  {
   "cell_type": "code",
   "execution_count": null,
   "id": "8c526228",
   "metadata": {},
   "outputs": [],
   "source": [
    "\n",
    "# Your code here\n"
   ]
  },
  {
   "cell_type": "markdown",
   "id": "eb47db32",
   "metadata": {},
   "source": [
    "### 1.2 The simulation"
   ]
  },
  {
   "cell_type": "code",
   "execution_count": null,
   "id": "0816cf3f",
   "metadata": {},
   "outputs": [],
   "source": [
    "\n",
    "# Your code here\n"
   ]
  },
  {
   "cell_type": "markdown",
   "id": "c019e3f9",
   "metadata": {},
   "source": [
    "### 1.3 What does theory say?"
   ]
  },
  {
   "cell_type": "code",
   "execution_count": null,
   "id": "ee2c97f8",
   "metadata": {},
   "outputs": [],
   "source": [
    "\n",
    "# Your code here\n"
   ]
  },
  {
   "cell_type": "markdown",
   "id": "17dfeb70",
   "metadata": {},
   "source": [
    "## 2 Estimating \\(\\pi\\)"
   ]
  },
  {
   "cell_type": "markdown",
   "id": "7306566c",
   "metadata": {},
   "source": [
    "### 2.1 The method"
   ]
  },
  {
   "cell_type": "code",
   "execution_count": null,
   "id": "74370ab6",
   "metadata": {},
   "outputs": [],
   "source": [
    "\n",
    "# Your code here\n"
   ]
  },
  {
   "cell_type": "markdown",
   "id": "fe88ae01",
   "metadata": {},
   "source": [
    "### 2.2 A poor but intuitive solution"
   ]
  },
  {
   "cell_type": "code",
   "execution_count": 3,
   "id": "dbc6c04c",
   "metadata": {},
   "outputs": [
    {
     "data": {
      "text/plain": [
       "3.14396"
      ]
     },
     "execution_count": 3,
     "metadata": {},
     "output_type": "execute_result"
    }
   ],
   "source": [
    "import numpy.random as rnd\n",
    "import numpy as np\n",
    "N_total = 100_000                             # Yes, Python allows the _\n",
    "N_green = 0\n",
    "\n",
    "for _ in range(N_total):\n",
    "    x = rnd.uniform(low=-1, high=1, size=1)     \n",
    "    y = rnd.uniform(low=-1, high=1, size=1)\n",
    "    r = np.sqrt(x**2 + y**2)                   # Distance from the origin\n",
    "\n",
    "    if r <= 1:\n",
    "        N_green += 1                           # In or out of the circle\n",
    "\n",
    "4 * N_green / N_total                          # Estimate for pi"
   ]
  },
  {
   "cell_type": "markdown",
   "id": "ca010ffd",
   "metadata": {},
   "source": [
    "### 2.3 A better solution"
   ]
  },
  {
   "cell_type": "code",
   "execution_count": 4,
   "id": "536a427e",
   "metadata": {},
   "outputs": [
    {
     "data": {
      "text/plain": [
       "3.140912"
      ]
     },
     "execution_count": 4,
     "metadata": {},
     "output_type": "execute_result"
    }
   ],
   "source": [
    "N_total=1_000_000\n",
    "x=rnd.uniform(low=-1, high=1, size=N_total)\n",
    "y=rnd.uniform(low=-1, high=1, size=N_total)\n",
    "N_green= np.sum((x**2+y**2) <= 1)                # Oh! the ease of NumPy!\n",
    "\n",
    "4 * (N_green / N_total)\n"
   ]
  },
  {
   "cell_type": "markdown",
   "id": "e10369ec",
   "metadata": {},
   "source": [
    "### 2.4 A smarter solution"
   ]
  },
  {
   "cell_type": "code",
   "execution_count": 5,
   "id": "4ca0c674",
   "metadata": {},
   "outputs": [
    {
     "data": {
      "text/plain": [
       "3.142416"
      ]
     },
     "execution_count": 5,
     "metadata": {},
     "output_type": "execute_result"
    }
   ],
   "source": [
    "N_total=1_000_000\n",
    "x=rnd.rand(N_total)\n",
    "y=rnd.rand(N_total)\n",
    "N_green=np.sum((x**2+y**2) <= 1)\n",
    "\n",
    "4 * (N_green / N_total)\n"
   ]
  },
  {
   "cell_type": "markdown",
   "id": "e03f850f",
   "metadata": {},
   "source": [
    "## Exercise 1 :  Vital Stats of Random π"
   ]
  },
  {
   "cell_type": "code",
   "execution_count": 72,
   "id": "1e500ec7",
   "metadata": {},
   "outputs": [
    {
     "data": {
      "text/plain": [
       "3.6"
      ]
     },
     "execution_count": 72,
     "metadata": {},
     "output_type": "execute_result"
    }
   ],
   "source": [
    "def estimate_pi(n):\n",
    "    n_total=n\n",
    "    x=rnd.rand(n_total)\n",
    "    y=rnd.rand(n_total)\n",
    "    n_green=np.sum((x**2+y**2) <= 1)\n",
    "    return 4 * (n_green / n_total)\n",
    "\n",
    "estimate_pi(10)\n",
    "\n",
    "\n",
    "\n",
    "\n"
   ]
  },
  {
   "cell_type": "code",
   "execution_count": 73,
   "id": "73e9d26d",
   "metadata": {},
   "outputs": [
    {
     "name": "stdout",
     "output_type": "stream",
     "text": [
      "[3.1688, 3.154, 3.1244, 3.14, 3.122, 3.16, 3.152, 3.138, 3.1384, 3.1104, 3.1508, 3.1196, 3.1436, 3.132, 3.1472, 3.1192, 3.1388, 3.1324, 3.124, 3.1372, 3.1344, 3.1712, 3.1452, 3.1792, 3.1316, 3.1444, 3.1396, 3.174, 3.158, 3.1356, 3.122, 3.1444, 3.1172, 3.146, 3.1216, 3.158, 3.1344, 3.136, 3.1396, 3.1592, 3.1272, 3.1504, 3.1524, 3.138, 3.1572, 3.156, 3.1652, 3.1288, 3.1412, 3.134, 3.1392, 3.1376, 3.1436, 3.134, 3.1336, 3.1264, 3.1364, 3.1624, 3.1324, 3.1348, 3.1352, 3.1464, 3.164, 3.1432, 3.146, 3.1428, 3.1056, 3.1396, 3.1344, 3.132, 3.1476, 3.1564, 3.1376, 3.1292, 3.1336, 3.1204, 3.1536, 3.1208, 3.1444, 3.1508, 3.1028, 3.146, 3.1464, 3.1548, 3.1496, 3.1452, 3.1468, 3.1404, 3.1236, 3.1252, 3.1312, 3.1504, 3.1476, 3.1236, 3.1252, 3.166, 3.1532, 3.1232, 3.148, 3.1532]\n"
     ]
    }
   ],
   "source": [
    "no_of_repeats = 100\n",
    "result = [estimate_pi(10000) for _ in range(no_of_repeats)]\n",
    "print(result)"
   ]
  },
  {
   "cell_type": "code",
   "execution_count": 74,
   "id": "5691a0a4",
   "metadata": {},
   "outputs": [
    {
     "data": {
      "text/plain": [
       "3.140612000000001"
      ]
     },
     "execution_count": 74,
     "metadata": {},
     "output_type": "execute_result"
    }
   ],
   "source": [
    "np.mean(result)"
   ]
  },
  {
   "cell_type": "code",
   "execution_count": 75,
   "id": "af1f8b94",
   "metadata": {},
   "outputs": [
    {
     "data": {
      "text/plain": [
       "0.01454916684899859"
      ]
     },
     "execution_count": 75,
     "metadata": {},
     "output_type": "execute_result"
    }
   ],
   "source": [
    "np.std(result)"
   ]
  },
  {
   "cell_type": "code",
   "execution_count": 98,
   "id": "df9af38a",
   "metadata": {},
   "outputs": [
    {
     "data": {
      "text/plain": [
       "3.06"
      ]
     },
     "execution_count": 98,
     "metadata": {},
     "output_type": "execute_result"
    }
   ],
   "source": [
    "no_of_repeats = 100\n",
    "result = [estimate_pi(10) for _ in range(no_of_repeats)]\n",
    "np.mean(result)"
   ]
  },
  {
   "cell_type": "code",
   "execution_count": 100,
   "id": "7042b753",
   "metadata": {},
   "outputs": [
    {
     "data": {
      "text/plain": [
       "0.5620533782480095"
      ]
     },
     "execution_count": 100,
     "metadata": {},
     "output_type": "execute_result"
    }
   ],
   "source": [
    "no_of_repeats = 100\n",
    "result = [estimate_pi(10) for _ in range(no_of_repeats)]\n",
    "np.std(result)"
   ]
  },
  {
   "cell_type": "code",
   "execution_count": 78,
   "id": "bc46cf09",
   "metadata": {},
   "outputs": [
    {
     "data": {
      "text/plain": [
       "3.1329200000000004"
      ]
     },
     "execution_count": 78,
     "metadata": {},
     "output_type": "execute_result"
    }
   ],
   "source": [
    "no_of_repeats = 100\n",
    "result = [estimate_pi(1000) for _ in range(no_of_repeats)]\n",
    "np.mean(result)"
   ]
  },
  {
   "cell_type": "code",
   "execution_count": 101,
   "id": "da0e89b4",
   "metadata": {},
   "outputs": [
    {
     "data": {
      "text/plain": [
       "0.044974659531785255"
      ]
     },
     "execution_count": 101,
     "metadata": {},
     "output_type": "execute_result"
    }
   ],
   "source": [
    "no_of_repeats = 100\n",
    "result = [estimate_pi(1000) for _ in range(no_of_repeats)]\n",
    "np.std(result)"
   ]
  },
  {
   "cell_type": "code",
   "execution_count": 80,
   "id": "83b39f12",
   "metadata": {},
   "outputs": [
    {
     "data": {
      "text/plain": [
       "3.1416660000000003"
      ]
     },
     "execution_count": 80,
     "metadata": {},
     "output_type": "execute_result"
    }
   ],
   "source": [
    "no_of_repeats = 100\n",
    "result = [estimate_pi(100000) for _ in range(no_of_repeats)]\n",
    "np.mean(result)"
   ]
  },
  {
   "cell_type": "code",
   "execution_count": 81,
   "id": "509a60a5",
   "metadata": {},
   "outputs": [
    {
     "data": {
      "text/plain": [
       "0.004679850527527584"
      ]
     },
     "execution_count": 81,
     "metadata": {},
     "output_type": "execute_result"
    }
   ],
   "source": [
    "no_of_repeats = 100\n",
    "result = [estimate_pi(100000) for _ in range(no_of_repeats)]\n",
    "np.std(result)"
   ]
  },
  {
   "cell_type": "code",
   "execution_count": 82,
   "id": "9ce82b21",
   "metadata": {},
   "outputs": [
    {
     "data": {
      "text/plain": [
       "3.141847200000001"
      ]
     },
     "execution_count": 82,
     "metadata": {},
     "output_type": "execute_result"
    }
   ],
   "source": [
    "no_of_repeats = 100\n",
    "result = [estimate_pi(1000000) for _ in range(no_of_repeats)]\n",
    "np.mean(result)"
   ]
  },
  {
   "cell_type": "code",
   "execution_count": 83,
   "id": "7d77805f",
   "metadata": {},
   "outputs": [
    {
     "data": {
      "text/plain": [
       "0.0015874851558361164"
      ]
     },
     "execution_count": 83,
     "metadata": {},
     "output_type": "execute_result"
    }
   ],
   "source": [
    "no_of_repeats = 100\n",
    "result = [estimate_pi(1000000) for _ in range(no_of_repeats)]\n",
    "np.std(result)"
   ]
  },
  {
   "cell_type": "code",
   "execution_count": 109,
   "id": "8ceee66e",
   "metadata": {},
   "outputs": [
    {
     "data": {
      "text/plain": [
       "<function matplotlib.pyplot.show(close=None, block=None)>"
      ]
     },
     "execution_count": 109,
     "metadata": {},
     "output_type": "execute_result"
    },
    {
     "data": {
      "image/png": "[encoded data removed]",
      "text/plain": [
       "<Figure size 640x480 with 1 Axes>"
      ]
     },
     "metadata": {},
     "output_type": "display_data"
    }
   ],
   "source": [
    "from matplotlib import pyplot as plt\n",
    "import numpy as np \n",
    "\n",
    "x = [10**1, 10**2, 10**3, 10**4, 10**5]\n",
    "y = [3.06, 3.1329200000000004, 3.140612000000001, 3.1416660000000003, 3.141847200000001]\n",
    "y_err = [0.5620533782480095, 0.044974659531785255, 0.01454916684899859, 0.004679850527527584,0.0015874851558361164]\n",
    "plt.xscale('log')\n",
    "plt.ylim([2.8,3.4])\n",
    "plt.scatter(x,y)\n",
    "plt.errorbar(x,y, yerr=y_err, fmt='o', label='Std.Dev.of $\\pi$ values')\n",
    "plt.hlines(np.pi, x[0], x[-1], linestyle='--', colors='lightblue', label='Real $\\pi$')\n",
    "plt.xlabel('No of points used to generate value')\n",
    "plt.ylabel('Value of $\\pi$')\n",
    "plt.title('Value of $\\pi$ vs No. of Points Used')\n",
    "plt.legend(loc='upper right')\n",
    "plt.show"
   ]
  },
  {
   "cell_type": "code",
   "execution_count": null,
   "id": "8eed6132",
   "metadata": {},
   "outputs": [],
   "source": []
  }
 ],
 "metadata": {
  "kernelspec": {
   "display_name": "Python 3 (ipykernel)",
   "language": "python",
   "name": "python3"
  },
  "language_info": {
   "codemirror_mode": {
    "name": "ipython",
    "version": 3
   },
   "file_extension": ".py",
   "mimetype": "text/x-python",
   "name": "python",
   "nbconvert_exporter": "python",
   "pygments_lexer": "ipython3",
   "version": "3.10.8"
  },
  "toc": {
   "base_numbering": 1,
   "nav_menu": {},
   "number_sections": true,
   "sideBar": true,
   "skip_h1_title": false,
   "title_cell": "Table of Contents",
   "title_sidebar": "Contents",
   "toc_cell": false,
   "toc_position": {},
   "toc_section_display": true,
   "toc_window_display": false
  },
  "vscode": {
   "interpreter": {
    "hash": "31f2aee4e71d21fbe5cf8b01ff0e069b9275f58929596ceb00d14d90e3e16cd6"
   }
  }
 },
 "nbformat": 4,
 "nbformat_minor": 5
}
