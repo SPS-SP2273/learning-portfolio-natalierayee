{
 "cells": [
  {
   "cell_type": "code",
   "execution_count": 1,
   "id": "99d2511d",
   "metadata": {},
   "outputs": [
    {
     "name": "stdout",
     "output_type": "stream",
     "text": [
      "Hello World!\n"
     ]
    }
   ],
   "source": [
    "print('Hello World!')"
   ]
  },
  {
   "cell_type": "markdown",
   "id": "063c9046",
   "metadata": {},
   "source": [
    "The ships *hung in the sky* in much the same way that **bricks don't**<sup>1</sup><sub>QUOTE</sub>"
   ]
  },
  {
   "cell_type": "markdown",
   "id": "3aad40c2",
   "metadata": {},
   "source": [
    "```python\n",
    "print('Hello World!')\n",
    "```"
   ]
  },
  {
   "cell_type": "markdown",
   "id": "88be5e72",
   "metadata": {},
   "source": [
    "```python\n",
    "print(`Hello World!`)\n",
    "```"
   ]
  },
  {
   "cell_type": "markdown",
   "id": "19ebd062",
   "metadata": {},
   "source": [
    "[SP2273 Website](https://sps.nus.edu.sg/sp2273/using-jupyter-need.html)"
   ]
  },
  {
   "cell_type": "markdown",
   "id": "cd771953",
   "metadata": {},
   "source": [
    "![](https://nus.edu.sg/images/default-source/base/logo.png)"
   ]
  },
  {
   "cell_type": "markdown",
   "id": "b6df9c6d",
   "metadata": {},
   "source": [
    "| A    |  B   |    C |\n",
    "| :--- | :--: | ---: |\n",
    "| a1   |  b1  |   c1 |\n",
    "| a2   |  b2  |   c2 |"
   ]
  },
  {
   "cell_type": "markdown",
   "id": "43681eb9",
   "metadata": {},
   "source": [
    "1. Master Yoda \n",
    "1. Luke Skywalker \n",
    "1. Anakin Skywalker "
   ]
  },
  {
   "cell_type": "markdown",
   "id": "e869a791",
   "metadata": {},
   "source": [
    "- Master Yoda \n",
    "- Luke Skywalker "
   ]
  },
  {
   "cell_type": "markdown",
   "id": "509349ed",
   "metadata": {},
   "source": [
    "1. Master Yoda \n",
    "   1. Was a Jedi \n",
    "   1. Was a bit green"
   ]
  },
  {
   "cell_type": "markdown",
   "id": "16f9ffb6",
   "metadata": {},
   "source": [
    "1. Master Yoda \n",
    " 1. Was a Jedi \n",
    "    1. Was a bit green"
   ]
  },
  {
   "cell_type": "markdown",
   "id": "b02753b9",
   "metadata": {},
   "source": [
    "1. Master Yoda\n",
    "   1. Was a Jedi\n",
    "   1. Was a bit green\n",
    "1. Luke Skywalker\n",
    "   1. Was a Jedi\n",
    "   1. Is Anakin's son.\n",
    "1. Anakin Skywalker\n",
    "   1. Was a Jedi then became a baddie\n",
    "   1. Is famous for saying 'Luke, I am your father'"
   ]
  },
  {
   "cell_type": "markdown",
   "id": "81c434d0",
   "metadata": {},
   "source": [
    "1. Master Yoda \n",
    "   - Was a Jedi \n",
    "   - Was a bit green \n",
    "2. Luke Skywalker \n",
    "   - Was a Jedi \n",
    "   - Is Anakin's son"
   ]
  },
  {
   "cell_type": "markdown",
   "id": "0fb1f051",
   "metadata": {},
   "source": [
    "$$\n",
    "x = \\dfrac{-b \\pm \\sqrt{b^2-4ac}}{2a}\n",
    "$$"
   ]
  },
  {
   "cell_type": "markdown",
   "id": "1e2507fa",
   "metadata": {},
   "source": [
    "**Quadratic Equations**\n",
    "![](https://upload.wikimedia.org/wikipedia/commons/thumb/f/f8/Polynomialdeg2.svg/300px-Polynomialdeg2.svg.png)\n",
    "(Image from the [Wikipedia page on Quadratic Equations](https://en.wikipedia.org/wiki/Quadratic_equation)\n",
    "\n",
    "**Introduction**\n",
    "\n",
    "The general form of a quadratic equation is:\n",
    "$$\n",
    "ax^{2} + bx + c = 0\n",
    "$$\n",
    "\n",
    "**Solutions** Provided a \\ne 0, we can use an elementary algebraic method called [completing the square](https://en.wikipedia.org/wiki/Completing_the_square) to show that a quadratic equation has the following solution: \n",
    "$$\n",
    "x = \\dfrac{-b \\pm \\sqrt{b^2-4ac}}{2a}\n",
    "$$\n",
    "\n",
    "**Discriminant** \n",
    "The quantity \\Delta = b^{2} - 4ac is called the **discriminant** of the equation and decides the nature of its solutions. The table below shows the various possibilities. \n",
    "\n",
    "|  Discriminant                | Roots                               |\n",
    "|    :---:                     | ---:                                |\n",
    "| \\Delta = b^{2} - 4ac = 0     | A single solution of -b/(2a)        |\n",
    "| $\\Delta = b^{2} - 4ac \\gt 0$ | Two distinct solutions              |\n",
    "| $\\Delta = b^{2} - 4ac \\lt 0$ | No real solutions; both are complex |\n"
   ]
  },
  {
   "cell_type": "markdown",
   "id": "7982b839",
   "metadata": {},
   "source": [
    "The quantity $\\Delta = b^{2} - 4ac$ is called the **discriminant** of the equation and decides the nature of its solutions"
   ]
  },
  {
   "cell_type": "markdown",
   "id": "8e80b703",
   "metadata": {},
   "source": [
    "A repository is the place where the data of our learning progress can be stored "
   ]
  },
  {
   "cell_type": "markdown",
   "id": "18d0bf0d",
   "metadata": {},
   "source": [
    "Git keeps track of changes in the files of our repository "
   ]
  },
  {
   "cell_type": "markdown",
   "id": "1ab3ecac",
   "metadata": {},
   "source": [
    "A commit helps to specify which file changes should be recorded "
   ]
  },
  {
   "cell_type": "markdown",
   "id": "8b8db6db",
   "metadata": {},
   "source": [
    "A push helps to sync changes made on device to Github"
   ]
  },
  {
   "cell_type": "markdown",
   "id": "29c3f843",
   "metadata": {},
   "source": [
    "Github is an online server wherelse Github Desktop is a drive within your device "
   ]
  },
  {
   "cell_type": "markdown",
   "id": "63baa31e",
   "metadata": {},
   "source": [
    "The opposite to push is pull where files are exported from the server "
   ]
  }
 ],
 "metadata": {
  "kernelspec": {
   "display_name": "Python 3 (ipykernel)",
   "language": "python",
   "name": "python3"
  },
  "language_info": {
   "codemirror_mode": {
    "name": "ipython",
    "version": 3
   },
   "file_extension": ".py",
   "mimetype": "text/x-python",
   "name": "python",
   "nbconvert_exporter": "python",
   "pygments_lexer": "ipython3",
   "version": "3.10.8"
  }
 },
 "nbformat": 4,
 "nbformat_minor": 5
}
