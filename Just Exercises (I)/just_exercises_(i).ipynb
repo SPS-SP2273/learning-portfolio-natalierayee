{
 "cells": [
  {
   "cell_type": "markdown",
   "id": "123456",
   "metadata": {},
   "source": [
    "<div style=\"text-align:left;font-size:2em\"><span style=\"font-weight:bolder;font-size:1.25em\">SP2273 | Learning Portfolio</span><br><br><span style=\"font-weight:bold;color:darkred\">Just Exercises (I)</span></div>"
   ]
  },
  {
   "cell_type": "markdown",
   "id": "ce0ed332",
   "metadata": {},
   "source": [
    "## Exercise 1 :  F-strings to the rescue"
   ]
  },
  {
   "cell_type": "code",
   "execution_count": 18,
   "id": "7015f72a",
   "metadata": {},
   "outputs": [
    {
     "name": "stdout",
     "output_type": "stream",
     "text": [
      "00001\n",
      "00002\n",
      "00003\n",
      "00004\n",
      "00005\n",
      "00006\n",
      "00007\n",
      "00008\n",
      "00009\n",
      "00010\n"
     ]
    }
   ],
   "source": [
    "for i in range(1,11):\n",
    "    s = f'{i:05d}'\n",
    "    print(s) \n",
    "\n",
    "\n"
   ]
  },
  {
   "cell_type": "code",
   "execution_count": 11,
   "id": "0193ac02",
   "metadata": {},
   "outputs": [
    {
     "name": "stdout",
     "output_type": "stream",
     "text": [
      "001          +\n",
      "002         ++\n",
      "003        +++\n",
      "004       ++++\n",
      "005      +++++\n",
      "006     ++++++\n",
      "007    +++++++\n",
      "008   ++++++++\n",
      "009  +++++++++\n",
      "010 ++++++++++\n"
     ]
    }
   ],
   "source": [
    "for i in range(1,11):\n",
    "    s = f'{i:03d}'\n",
    "    print(s + \" \" * (11-i) + '+'*i)"
   ]
  },
  {
   "cell_type": "code",
   "execution_count": 10,
   "id": "f14b88ce",
   "metadata": {},
   "outputs": [
    {
     "name": "stdout",
     "output_type": "stream",
     "text": [
      "001-+++++++++\n",
      "002--++++++++\n",
      "003---+++++++\n",
      "004----++++++\n",
      "005-----+++++\n",
      "006------++++\n",
      "007-------+++\n",
      "008--------++\n",
      "009---------+\n",
      "010----------\n"
     ]
    }
   ],
   "source": [
    "for i in range(1,11):\n",
    "    s = f'{i:03d}'\n",
    "    print(s +'-'*(1*i) + '+'*(10-i))"
   ]
  },
  {
   "cell_type": "code",
   "execution_count": 36,
   "id": "312d3e5e",
   "metadata": {},
   "outputs": [
    {
     "data": {
      "text/plain": [
       "['bruce_exploits.txt',\n",
       " 'bruce_enemies.txt',\n",
       " 'bruce_friends.txt',\n",
       " 'natasha_exploits.txt',\n",
       " 'natasha_enemies.txt',\n",
       " 'natasha_friends.txt',\n",
       " 'tony_exploits.txt',\n",
       " 'tony_enemies.txt',\n",
       " 'tony_friends.txt']"
      ]
     },
     "execution_count": 36,
     "metadata": {},
     "output_type": "execute_result"
    }
   ],
   "source": [
    "friends = []\n",
    "name = [\"bruce\", \"natasha\", \"tony\"]\n",
    "actions = [\"exploits\", \"enemies\", \"friends\"]\n",
    "for name in names: \n",
    "    for action in actions: \n",
    "        friends.append(f\"{name}_{action}.txt\")\n",
    "friends"
   ]
  },
  {
   "cell_type": "code",
   "execution_count": 38,
   "id": "0c2a8539",
   "metadata": {},
   "outputs": [
    {
     "data": {
      "text/plain": [
       "['data_sg_exp-1_trial-001.txt',\n",
       " 'data_sg_exp-2_trial-001.txt',\n",
       " 'data_sg_exp-3_trial-001.txt',\n",
       " 'data_gb_exp-1_trial-001.txt',\n",
       " 'data_gb_exp-2_trial-001.txt',\n",
       " 'data_gb_exp-3_trial-001.txt',\n",
       " 'data_us_exp-1_trial-001.txt',\n",
       " 'data_us_exp-2_trial-001.txt',\n",
       " 'data_us_exp-3_trial-001.txt',\n",
       " 'data_sg_exp-1_trial-002.txt',\n",
       " 'data_sg_exp-2_trial-002.txt',\n",
       " 'data_sg_exp-3_trial-002.txt',\n",
       " 'data_gb_exp-1_trial-002.txt',\n",
       " 'data_gb_exp-2_trial-002.txt',\n",
       " 'data_gb_exp-3_trial-002.txt',\n",
       " 'data_us_exp-1_trial-002.txt',\n",
       " 'data_us_exp-2_trial-002.txt',\n",
       " 'data_us_exp-3_trial-002.txt',\n",
       " 'data_sg_exp-1_trial-003.txt',\n",
       " 'data_sg_exp-2_trial-003.txt',\n",
       " 'data_sg_exp-3_trial-003.txt',\n",
       " 'data_gb_exp-1_trial-003.txt',\n",
       " 'data_gb_exp-2_trial-003.txt',\n",
       " 'data_gb_exp-3_trial-003.txt',\n",
       " 'data_us_exp-1_trial-003.txt',\n",
       " 'data_us_exp-2_trial-003.txt',\n",
       " 'data_us_exp-3_trial-003.txt',\n",
       " 'data_sg_exp-1_trial-004.txt',\n",
       " 'data_sg_exp-2_trial-004.txt',\n",
       " 'data_sg_exp-3_trial-004.txt',\n",
       " 'data_gb_exp-1_trial-004.txt',\n",
       " 'data_gb_exp-2_trial-004.txt',\n",
       " 'data_gb_exp-3_trial-004.txt',\n",
       " 'data_us_exp-1_trial-004.txt',\n",
       " 'data_us_exp-2_trial-004.txt',\n",
       " 'data_us_exp-3_trial-004.txt',\n",
       " 'data_sg_exp-1_trial-005.txt',\n",
       " 'data_sg_exp-2_trial-005.txt',\n",
       " 'data_sg_exp-3_trial-005.txt',\n",
       " 'data_gb_exp-1_trial-005.txt',\n",
       " 'data_gb_exp-2_trial-005.txt',\n",
       " 'data_gb_exp-3_trial-005.txt',\n",
       " 'data_us_exp-1_trial-005.txt',\n",
       " 'data_us_exp-2_trial-005.txt',\n",
       " 'data_us_exp-3_trial-005.txt',\n",
       " 'data_sg_exp-1_trial-006.txt',\n",
       " 'data_sg_exp-2_trial-006.txt',\n",
       " 'data_sg_exp-3_trial-006.txt',\n",
       " 'data_gb_exp-1_trial-006.txt',\n",
       " 'data_gb_exp-2_trial-006.txt',\n",
       " 'data_gb_exp-3_trial-006.txt',\n",
       " 'data_us_exp-1_trial-006.txt',\n",
       " 'data_us_exp-2_trial-006.txt',\n",
       " 'data_us_exp-3_trial-006.txt',\n",
       " 'data_sg_exp-1_trial-007.txt',\n",
       " 'data_sg_exp-2_trial-007.txt',\n",
       " 'data_sg_exp-3_trial-007.txt',\n",
       " 'data_gb_exp-1_trial-007.txt',\n",
       " 'data_gb_exp-2_trial-007.txt',\n",
       " 'data_gb_exp-3_trial-007.txt',\n",
       " 'data_us_exp-1_trial-007.txt',\n",
       " 'data_us_exp-2_trial-007.txt',\n",
       " 'data_us_exp-3_trial-007.txt',\n",
       " 'data_sg_exp-1_trial-008.txt',\n",
       " 'data_sg_exp-2_trial-008.txt',\n",
       " 'data_sg_exp-3_trial-008.txt',\n",
       " 'data_gb_exp-1_trial-008.txt',\n",
       " 'data_gb_exp-2_trial-008.txt',\n",
       " 'data_gb_exp-3_trial-008.txt',\n",
       " 'data_us_exp-1_trial-008.txt',\n",
       " 'data_us_exp-2_trial-008.txt',\n",
       " 'data_us_exp-3_trial-008.txt',\n",
       " 'data_sg_exp-1_trial-009.txt',\n",
       " 'data_sg_exp-2_trial-009.txt',\n",
       " 'data_sg_exp-3_trial-009.txt',\n",
       " 'data_gb_exp-1_trial-009.txt',\n",
       " 'data_gb_exp-2_trial-009.txt',\n",
       " 'data_gb_exp-3_trial-009.txt',\n",
       " 'data_us_exp-1_trial-009.txt',\n",
       " 'data_us_exp-2_trial-009.txt',\n",
       " 'data_us_exp-3_trial-009.txt',\n",
       " 'data_sg_exp-1_trial-010.txt',\n",
       " 'data_sg_exp-2_trial-010.txt',\n",
       " 'data_sg_exp-3_trial-010.txt',\n",
       " 'data_gb_exp-1_trial-010.txt',\n",
       " 'data_gb_exp-2_trial-010.txt',\n",
       " 'data_gb_exp-3_trial-010.txt',\n",
       " 'data_us_exp-1_trial-010.txt',\n",
       " 'data_us_exp-2_trial-010.txt',\n",
       " 'data_us_exp-3_trial-010.txt',\n",
       " 'data_sg_exp-1_trial-011.txt',\n",
       " 'data_sg_exp-2_trial-011.txt',\n",
       " 'data_sg_exp-3_trial-011.txt',\n",
       " 'data_gb_exp-1_trial-011.txt',\n",
       " 'data_gb_exp-2_trial-011.txt',\n",
       " 'data_gb_exp-3_trial-011.txt',\n",
       " 'data_us_exp-1_trial-011.txt',\n",
       " 'data_us_exp-2_trial-011.txt',\n",
       " 'data_us_exp-3_trial-011.txt',\n",
       " 'data_sg_exp-1_trial-012.txt',\n",
       " 'data_sg_exp-2_trial-012.txt',\n",
       " 'data_sg_exp-3_trial-012.txt',\n",
       " 'data_gb_exp-1_trial-012.txt',\n",
       " 'data_gb_exp-2_trial-012.txt',\n",
       " 'data_gb_exp-3_trial-012.txt',\n",
       " 'data_us_exp-1_trial-012.txt',\n",
       " 'data_us_exp-2_trial-012.txt',\n",
       " 'data_us_exp-3_trial-012.txt',\n",
       " 'data_sg_exp-1_trial-013.txt',\n",
       " 'data_sg_exp-2_trial-013.txt',\n",
       " 'data_sg_exp-3_trial-013.txt',\n",
       " 'data_gb_exp-1_trial-013.txt',\n",
       " 'data_gb_exp-2_trial-013.txt',\n",
       " 'data_gb_exp-3_trial-013.txt',\n",
       " 'data_us_exp-1_trial-013.txt',\n",
       " 'data_us_exp-2_trial-013.txt',\n",
       " 'data_us_exp-3_trial-013.txt',\n",
       " 'data_sg_exp-1_trial-014.txt',\n",
       " 'data_sg_exp-2_trial-014.txt',\n",
       " 'data_sg_exp-3_trial-014.txt',\n",
       " 'data_gb_exp-1_trial-014.txt',\n",
       " 'data_gb_exp-2_trial-014.txt',\n",
       " 'data_gb_exp-3_trial-014.txt',\n",
       " 'data_us_exp-1_trial-014.txt',\n",
       " 'data_us_exp-2_trial-014.txt',\n",
       " 'data_us_exp-3_trial-014.txt',\n",
       " 'data_sg_exp-1_trial-015.txt',\n",
       " 'data_sg_exp-2_trial-015.txt',\n",
       " 'data_sg_exp-3_trial-015.txt',\n",
       " 'data_gb_exp-1_trial-015.txt',\n",
       " 'data_gb_exp-2_trial-015.txt',\n",
       " 'data_gb_exp-3_trial-015.txt',\n",
       " 'data_us_exp-1_trial-015.txt',\n",
       " 'data_us_exp-2_trial-015.txt',\n",
       " 'data_us_exp-3_trial-015.txt',\n",
       " 'data_sg_exp-1_trial-016.txt',\n",
       " 'data_sg_exp-2_trial-016.txt',\n",
       " 'data_sg_exp-3_trial-016.txt',\n",
       " 'data_gb_exp-1_trial-016.txt',\n",
       " 'data_gb_exp-2_trial-016.txt',\n",
       " 'data_gb_exp-3_trial-016.txt',\n",
       " 'data_us_exp-1_trial-016.txt',\n",
       " 'data_us_exp-2_trial-016.txt',\n",
       " 'data_us_exp-3_trial-016.txt',\n",
       " 'data_sg_exp-1_trial-017.txt',\n",
       " 'data_sg_exp-2_trial-017.txt',\n",
       " 'data_sg_exp-3_trial-017.txt',\n",
       " 'data_gb_exp-1_trial-017.txt',\n",
       " 'data_gb_exp-2_trial-017.txt',\n",
       " 'data_gb_exp-3_trial-017.txt',\n",
       " 'data_us_exp-1_trial-017.txt',\n",
       " 'data_us_exp-2_trial-017.txt',\n",
       " 'data_us_exp-3_trial-017.txt',\n",
       " 'data_sg_exp-1_trial-018.txt',\n",
       " 'data_sg_exp-2_trial-018.txt',\n",
       " 'data_sg_exp-3_trial-018.txt',\n",
       " 'data_gb_exp-1_trial-018.txt',\n",
       " 'data_gb_exp-2_trial-018.txt',\n",
       " 'data_gb_exp-3_trial-018.txt',\n",
       " 'data_us_exp-1_trial-018.txt',\n",
       " 'data_us_exp-2_trial-018.txt',\n",
       " 'data_us_exp-3_trial-018.txt',\n",
       " 'data_sg_exp-1_trial-019.txt',\n",
       " 'data_sg_exp-2_trial-019.txt',\n",
       " 'data_sg_exp-3_trial-019.txt',\n",
       " 'data_gb_exp-1_trial-019.txt',\n",
       " 'data_gb_exp-2_trial-019.txt',\n",
       " 'data_gb_exp-3_trial-019.txt',\n",
       " 'data_us_exp-1_trial-019.txt',\n",
       " 'data_us_exp-2_trial-019.txt',\n",
       " 'data_us_exp-3_trial-019.txt',\n",
       " 'data_sg_exp-1_trial-020.txt',\n",
       " 'data_sg_exp-2_trial-020.txt',\n",
       " 'data_sg_exp-3_trial-020.txt',\n",
       " 'data_gb_exp-1_trial-020.txt',\n",
       " 'data_gb_exp-2_trial-020.txt',\n",
       " 'data_gb_exp-3_trial-020.txt',\n",
       " 'data_us_exp-1_trial-020.txt',\n",
       " 'data_us_exp-2_trial-020.txt',\n",
       " 'data_us_exp-3_trial-020.txt',\n",
       " 'data_sg_exp-1_trial-021.txt',\n",
       " 'data_sg_exp-2_trial-021.txt',\n",
       " 'data_sg_exp-3_trial-021.txt',\n",
       " 'data_gb_exp-1_trial-021.txt',\n",
       " 'data_gb_exp-2_trial-021.txt',\n",
       " 'data_gb_exp-3_trial-021.txt',\n",
       " 'data_us_exp-1_trial-021.txt',\n",
       " 'data_us_exp-2_trial-021.txt',\n",
       " 'data_us_exp-3_trial-021.txt',\n",
       " 'data_sg_exp-1_trial-022.txt',\n",
       " 'data_sg_exp-2_trial-022.txt',\n",
       " 'data_sg_exp-3_trial-022.txt',\n",
       " 'data_gb_exp-1_trial-022.txt',\n",
       " 'data_gb_exp-2_trial-022.txt',\n",
       " 'data_gb_exp-3_trial-022.txt',\n",
       " 'data_us_exp-1_trial-022.txt',\n",
       " 'data_us_exp-2_trial-022.txt',\n",
       " 'data_us_exp-3_trial-022.txt',\n",
       " 'data_sg_exp-1_trial-023.txt',\n",
       " 'data_sg_exp-2_trial-023.txt',\n",
       " 'data_sg_exp-3_trial-023.txt',\n",
       " 'data_gb_exp-1_trial-023.txt',\n",
       " 'data_gb_exp-2_trial-023.txt',\n",
       " 'data_gb_exp-3_trial-023.txt',\n",
       " 'data_us_exp-1_trial-023.txt',\n",
       " 'data_us_exp-2_trial-023.txt',\n",
       " 'data_us_exp-3_trial-023.txt',\n",
       " 'data_sg_exp-1_trial-024.txt',\n",
       " 'data_sg_exp-2_trial-024.txt',\n",
       " 'data_sg_exp-3_trial-024.txt',\n",
       " 'data_gb_exp-1_trial-024.txt',\n",
       " 'data_gb_exp-2_trial-024.txt',\n",
       " 'data_gb_exp-3_trial-024.txt',\n",
       " 'data_us_exp-1_trial-024.txt',\n",
       " 'data_us_exp-2_trial-024.txt',\n",
       " 'data_us_exp-3_trial-024.txt',\n",
       " 'data_sg_exp-1_trial-025.txt',\n",
       " 'data_sg_exp-2_trial-025.txt',\n",
       " 'data_sg_exp-3_trial-025.txt',\n",
       " 'data_gb_exp-1_trial-025.txt',\n",
       " 'data_gb_exp-2_trial-025.txt',\n",
       " 'data_gb_exp-3_trial-025.txt',\n",
       " 'data_us_exp-1_trial-025.txt',\n",
       " 'data_us_exp-2_trial-025.txt',\n",
       " 'data_us_exp-3_trial-025.txt',\n",
       " 'data_sg_exp-1_trial-026.txt',\n",
       " 'data_sg_exp-2_trial-026.txt',\n",
       " 'data_sg_exp-3_trial-026.txt',\n",
       " 'data_gb_exp-1_trial-026.txt',\n",
       " 'data_gb_exp-2_trial-026.txt',\n",
       " 'data_gb_exp-3_trial-026.txt',\n",
       " 'data_us_exp-1_trial-026.txt',\n",
       " 'data_us_exp-2_trial-026.txt',\n",
       " 'data_us_exp-3_trial-026.txt',\n",
       " 'data_sg_exp-1_trial-027.txt',\n",
       " 'data_sg_exp-2_trial-027.txt',\n",
       " 'data_sg_exp-3_trial-027.txt',\n",
       " 'data_gb_exp-1_trial-027.txt',\n",
       " 'data_gb_exp-2_trial-027.txt',\n",
       " 'data_gb_exp-3_trial-027.txt',\n",
       " 'data_us_exp-1_trial-027.txt',\n",
       " 'data_us_exp-2_trial-027.txt',\n",
       " 'data_us_exp-3_trial-027.txt',\n",
       " 'data_sg_exp-1_trial-028.txt',\n",
       " 'data_sg_exp-2_trial-028.txt',\n",
       " 'data_sg_exp-3_trial-028.txt',\n",
       " 'data_gb_exp-1_trial-028.txt',\n",
       " 'data_gb_exp-2_trial-028.txt',\n",
       " 'data_gb_exp-3_trial-028.txt',\n",
       " 'data_us_exp-1_trial-028.txt',\n",
       " 'data_us_exp-2_trial-028.txt',\n",
       " 'data_us_exp-3_trial-028.txt',\n",
       " 'data_sg_exp-1_trial-029.txt',\n",
       " 'data_sg_exp-2_trial-029.txt',\n",
       " 'data_sg_exp-3_trial-029.txt',\n",
       " 'data_gb_exp-1_trial-029.txt',\n",
       " 'data_gb_exp-2_trial-029.txt',\n",
       " 'data_gb_exp-3_trial-029.txt',\n",
       " 'data_us_exp-1_trial-029.txt',\n",
       " 'data_us_exp-2_trial-029.txt',\n",
       " 'data_us_exp-3_trial-029.txt',\n",
       " 'data_sg_exp-1_trial-030.txt',\n",
       " 'data_sg_exp-2_trial-030.txt',\n",
       " 'data_sg_exp-3_trial-030.txt',\n",
       " 'data_gb_exp-1_trial-030.txt',\n",
       " 'data_gb_exp-2_trial-030.txt',\n",
       " 'data_gb_exp-3_trial-030.txt',\n",
       " 'data_us_exp-1_trial-030.txt',\n",
       " 'data_us_exp-2_trial-030.txt',\n",
       " 'data_us_exp-3_trial-030.txt',\n",
       " 'data_sg_exp-1_trial-031.txt',\n",
       " 'data_sg_exp-2_trial-031.txt',\n",
       " 'data_sg_exp-3_trial-031.txt',\n",
       " 'data_gb_exp-1_trial-031.txt',\n",
       " 'data_gb_exp-2_trial-031.txt',\n",
       " 'data_gb_exp-3_trial-031.txt',\n",
       " 'data_us_exp-1_trial-031.txt',\n",
       " 'data_us_exp-2_trial-031.txt',\n",
       " 'data_us_exp-3_trial-031.txt',\n",
       " 'data_sg_exp-1_trial-032.txt',\n",
       " 'data_sg_exp-2_trial-032.txt',\n",
       " 'data_sg_exp-3_trial-032.txt',\n",
       " 'data_gb_exp-1_trial-032.txt',\n",
       " 'data_gb_exp-2_trial-032.txt',\n",
       " 'data_gb_exp-3_trial-032.txt',\n",
       " 'data_us_exp-1_trial-032.txt',\n",
       " 'data_us_exp-2_trial-032.txt',\n",
       " 'data_us_exp-3_trial-032.txt',\n",
       " 'data_sg_exp-1_trial-033.txt',\n",
       " 'data_sg_exp-2_trial-033.txt',\n",
       " 'data_sg_exp-3_trial-033.txt',\n",
       " 'data_gb_exp-1_trial-033.txt',\n",
       " 'data_gb_exp-2_trial-033.txt',\n",
       " 'data_gb_exp-3_trial-033.txt',\n",
       " 'data_us_exp-1_trial-033.txt',\n",
       " 'data_us_exp-2_trial-033.txt',\n",
       " 'data_us_exp-3_trial-033.txt',\n",
       " 'data_sg_exp-1_trial-034.txt',\n",
       " 'data_sg_exp-2_trial-034.txt',\n",
       " 'data_sg_exp-3_trial-034.txt',\n",
       " 'data_gb_exp-1_trial-034.txt',\n",
       " 'data_gb_exp-2_trial-034.txt',\n",
       " 'data_gb_exp-3_trial-034.txt',\n",
       " 'data_us_exp-1_trial-034.txt',\n",
       " 'data_us_exp-2_trial-034.txt',\n",
       " 'data_us_exp-3_trial-034.txt',\n",
       " 'data_sg_exp-1_trial-035.txt',\n",
       " 'data_sg_exp-2_trial-035.txt',\n",
       " 'data_sg_exp-3_trial-035.txt',\n",
       " 'data_gb_exp-1_trial-035.txt',\n",
       " 'data_gb_exp-2_trial-035.txt',\n",
       " 'data_gb_exp-3_trial-035.txt',\n",
       " 'data_us_exp-1_trial-035.txt',\n",
       " 'data_us_exp-2_trial-035.txt',\n",
       " 'data_us_exp-3_trial-035.txt',\n",
       " 'data_sg_exp-1_trial-036.txt',\n",
       " 'data_sg_exp-2_trial-036.txt',\n",
       " 'data_sg_exp-3_trial-036.txt',\n",
       " 'data_gb_exp-1_trial-036.txt',\n",
       " 'data_gb_exp-2_trial-036.txt',\n",
       " 'data_gb_exp-3_trial-036.txt',\n",
       " 'data_us_exp-1_trial-036.txt',\n",
       " 'data_us_exp-2_trial-036.txt',\n",
       " 'data_us_exp-3_trial-036.txt',\n",
       " 'data_sg_exp-1_trial-037.txt',\n",
       " 'data_sg_exp-2_trial-037.txt',\n",
       " 'data_sg_exp-3_trial-037.txt',\n",
       " 'data_gb_exp-1_trial-037.txt',\n",
       " 'data_gb_exp-2_trial-037.txt',\n",
       " 'data_gb_exp-3_trial-037.txt',\n",
       " 'data_us_exp-1_trial-037.txt',\n",
       " 'data_us_exp-2_trial-037.txt',\n",
       " 'data_us_exp-3_trial-037.txt',\n",
       " 'data_sg_exp-1_trial-038.txt',\n",
       " 'data_sg_exp-2_trial-038.txt',\n",
       " 'data_sg_exp-3_trial-038.txt',\n",
       " 'data_gb_exp-1_trial-038.txt',\n",
       " 'data_gb_exp-2_trial-038.txt',\n",
       " 'data_gb_exp-3_trial-038.txt',\n",
       " 'data_us_exp-1_trial-038.txt',\n",
       " 'data_us_exp-2_trial-038.txt',\n",
       " 'data_us_exp-3_trial-038.txt',\n",
       " 'data_sg_exp-1_trial-039.txt',\n",
       " 'data_sg_exp-2_trial-039.txt',\n",
       " 'data_sg_exp-3_trial-039.txt',\n",
       " 'data_gb_exp-1_trial-039.txt',\n",
       " 'data_gb_exp-2_trial-039.txt',\n",
       " 'data_gb_exp-3_trial-039.txt',\n",
       " 'data_us_exp-1_trial-039.txt',\n",
       " 'data_us_exp-2_trial-039.txt',\n",
       " 'data_us_exp-3_trial-039.txt',\n",
       " 'data_sg_exp-1_trial-040.txt',\n",
       " 'data_sg_exp-2_trial-040.txt',\n",
       " 'data_sg_exp-3_trial-040.txt',\n",
       " 'data_gb_exp-1_trial-040.txt',\n",
       " 'data_gb_exp-2_trial-040.txt',\n",
       " 'data_gb_exp-3_trial-040.txt',\n",
       " 'data_us_exp-1_trial-040.txt',\n",
       " 'data_us_exp-2_trial-040.txt',\n",
       " 'data_us_exp-3_trial-040.txt',\n",
       " 'data_sg_exp-1_trial-041.txt',\n",
       " 'data_sg_exp-2_trial-041.txt',\n",
       " 'data_sg_exp-3_trial-041.txt',\n",
       " 'data_gb_exp-1_trial-041.txt',\n",
       " 'data_gb_exp-2_trial-041.txt',\n",
       " 'data_gb_exp-3_trial-041.txt',\n",
       " 'data_us_exp-1_trial-041.txt',\n",
       " 'data_us_exp-2_trial-041.txt',\n",
       " 'data_us_exp-3_trial-041.txt',\n",
       " 'data_sg_exp-1_trial-042.txt',\n",
       " 'data_sg_exp-2_trial-042.txt',\n",
       " 'data_sg_exp-3_trial-042.txt',\n",
       " 'data_gb_exp-1_trial-042.txt',\n",
       " 'data_gb_exp-2_trial-042.txt',\n",
       " 'data_gb_exp-3_trial-042.txt',\n",
       " 'data_us_exp-1_trial-042.txt',\n",
       " 'data_us_exp-2_trial-042.txt',\n",
       " 'data_us_exp-3_trial-042.txt',\n",
       " 'data_sg_exp-1_trial-043.txt',\n",
       " 'data_sg_exp-2_trial-043.txt',\n",
       " 'data_sg_exp-3_trial-043.txt',\n",
       " 'data_gb_exp-1_trial-043.txt',\n",
       " 'data_gb_exp-2_trial-043.txt',\n",
       " 'data_gb_exp-3_trial-043.txt',\n",
       " 'data_us_exp-1_trial-043.txt',\n",
       " 'data_us_exp-2_trial-043.txt',\n",
       " 'data_us_exp-3_trial-043.txt',\n",
       " 'data_sg_exp-1_trial-044.txt',\n",
       " 'data_sg_exp-2_trial-044.txt',\n",
       " 'data_sg_exp-3_trial-044.txt',\n",
       " 'data_gb_exp-1_trial-044.txt',\n",
       " 'data_gb_exp-2_trial-044.txt',\n",
       " 'data_gb_exp-3_trial-044.txt',\n",
       " 'data_us_exp-1_trial-044.txt',\n",
       " 'data_us_exp-2_trial-044.txt',\n",
       " 'data_us_exp-3_trial-044.txt',\n",
       " 'data_sg_exp-1_trial-045.txt',\n",
       " 'data_sg_exp-2_trial-045.txt',\n",
       " 'data_sg_exp-3_trial-045.txt',\n",
       " 'data_gb_exp-1_trial-045.txt',\n",
       " 'data_gb_exp-2_trial-045.txt',\n",
       " 'data_gb_exp-3_trial-045.txt',\n",
       " 'data_us_exp-1_trial-045.txt',\n",
       " 'data_us_exp-2_trial-045.txt',\n",
       " 'data_us_exp-3_trial-045.txt',\n",
       " 'data_sg_exp-1_trial-046.txt',\n",
       " 'data_sg_exp-2_trial-046.txt',\n",
       " 'data_sg_exp-3_trial-046.txt',\n",
       " 'data_gb_exp-1_trial-046.txt',\n",
       " 'data_gb_exp-2_trial-046.txt',\n",
       " 'data_gb_exp-3_trial-046.txt',\n",
       " 'data_us_exp-1_trial-046.txt',\n",
       " 'data_us_exp-2_trial-046.txt',\n",
       " 'data_us_exp-3_trial-046.txt',\n",
       " 'data_sg_exp-1_trial-047.txt',\n",
       " 'data_sg_exp-2_trial-047.txt',\n",
       " 'data_sg_exp-3_trial-047.txt',\n",
       " 'data_gb_exp-1_trial-047.txt',\n",
       " 'data_gb_exp-2_trial-047.txt',\n",
       " 'data_gb_exp-3_trial-047.txt',\n",
       " 'data_us_exp-1_trial-047.txt',\n",
       " 'data_us_exp-2_trial-047.txt',\n",
       " 'data_us_exp-3_trial-047.txt',\n",
       " 'data_sg_exp-1_trial-048.txt',\n",
       " 'data_sg_exp-2_trial-048.txt',\n",
       " 'data_sg_exp-3_trial-048.txt',\n",
       " 'data_gb_exp-1_trial-048.txt',\n",
       " 'data_gb_exp-2_trial-048.txt',\n",
       " 'data_gb_exp-3_trial-048.txt',\n",
       " 'data_us_exp-1_trial-048.txt',\n",
       " 'data_us_exp-2_trial-048.txt',\n",
       " 'data_us_exp-3_trial-048.txt',\n",
       " 'data_sg_exp-1_trial-049.txt',\n",
       " 'data_sg_exp-2_trial-049.txt',\n",
       " 'data_sg_exp-3_trial-049.txt',\n",
       " 'data_gb_exp-1_trial-049.txt',\n",
       " 'data_gb_exp-2_trial-049.txt',\n",
       " 'data_gb_exp-3_trial-049.txt',\n",
       " 'data_us_exp-1_trial-049.txt',\n",
       " 'data_us_exp-2_trial-049.txt',\n",
       " 'data_us_exp-3_trial-049.txt',\n",
       " 'data_sg_exp-1_trial-050.txt',\n",
       " 'data_sg_exp-2_trial-050.txt',\n",
       " 'data_sg_exp-3_trial-050.txt',\n",
       " 'data_gb_exp-1_trial-050.txt',\n",
       " 'data_gb_exp-2_trial-050.txt',\n",
       " 'data_gb_exp-3_trial-050.txt',\n",
       " 'data_us_exp-1_trial-050.txt',\n",
       " 'data_us_exp-2_trial-050.txt',\n",
       " 'data_us_exp-3_trial-050.txt']"
      ]
     },
     "execution_count": 38,
     "metadata": {},
     "output_type": "execute_result"
    }
   ],
   "source": [
    "data = []\n",
    "for i in range(1,51):\n",
    "    s = f'{i:03d}'\n",
    "    tests = ['sg', 'gb', 'us']\n",
    "    for test in tests:\n",
    "        for a in range(1,4):\n",
    "            data.append(f'data_{test}_exp-{a}_trial-{s}.txt')\n",
    "data"
   ]
  },
  {
   "cell_type": "markdown",
   "id": "e58a1df4",
   "metadata": {},
   "source": [
    "## Exercise 2 :  Tutti frutti"
   ]
  },
  {
   "cell_type": "code",
   "execution_count": 75,
   "id": "b8ec6f08",
   "metadata": {},
   "outputs": [
    {
     "data": {
      "text/plain": [
       "True"
      ]
     },
     "execution_count": 75,
     "metadata": {},
     "output_type": "execute_result"
    }
   ],
   "source": [
    "fruits = [\"apple\", \"banana\", \"pineapple\", \"jackfruit\",\n",
    "        \"peach\", \"durian\", \"watermelon\", \"mango\",\n",
    "        \"strawberry\", \"passionfruit\"]\n",
    "'mango' in fruits\n",
    "\n"
   ]
  },
  {
   "cell_type": "code",
   "execution_count": 84,
   "id": "8c3b3b29",
   "metadata": {},
   "outputs": [
    {
     "name": "stdout",
     "output_type": "stream",
     "text": [
      "a,e\n",
      "b,a\n",
      "p,e\n",
      "j,t\n",
      "p,h\n",
      "d,n\n",
      "w,n\n",
      "m,o\n",
      "s,y\n",
      "p,t\n"
     ]
    }
   ],
   "source": [
    "fruits = [\"apple\", \"banana\", \"pineapple\", \"jackfruit\",\n",
    "        \"peach\", \"durian\", \"watermelon\", \"mango\",\n",
    "        \"strawberry\", \"passionfruit\"]\n",
    "for fruit in fruits: \n",
    "    print(f\"{fruit[0]},{fruit[-1]}\")"
   ]
  },
  {
   "cell_type": "code",
   "execution_count": 16,
   "id": "471c8897",
   "metadata": {},
   "outputs": [
    {
     "name": "stdout",
     "output_type": "stream",
     "text": [
      "['APPLE', 'BANANA', 'PINEAPPLE', 'JACKFRUIT', 'PEACH', 'DURIAN', 'WATERMELON', 'MANGO', 'STRAWBERRY', 'PASSIONFRUIT']\n"
     ]
    }
   ],
   "source": [
    "fruits = [\"apple\", \"banana\", \"pineapple\", \"jackfruit\",\n",
    "        \"peach\", \"durian\", \"watermelon\", \"mango\",\n",
    "        \"strawberry\", \"passionfruit\"]\n",
    "fruits_upper = [fruit.upper() for fruit in fruits]\n",
    "print(fruits_upper)"
   ]
  },
  {
   "cell_type": "code",
   "execution_count": 40,
   "id": "524f8220",
   "metadata": {},
   "outputs": [
    {
     "name": "stdout",
     "output_type": "stream",
     "text": [
      "apple\n",
      "banana\n",
      "PINEAPPLE\n",
      "jackfruit\n",
      "PEACH\n",
      "durian\n",
      "watermelon\n",
      "mango\n",
      "strawberry\n",
      "PASSIONFRUIT\n"
     ]
    }
   ],
   "source": [
    "fruits = [\"apple\", \"banana\", \"pineapple\", \"jackfruit\",\n",
    "        \"peach\", \"durian\", \"watermelon\", \"mango\",\n",
    "        \"strawberry\", \"passionfruit\"]\n",
    "for fruit in fruits:\n",
    "    if fruit[0] == 'p':\n",
    "        print(fruit.upper())\n",
    "    else:\n",
    "        print(fruit.lower())\n",
    "    \n"
   ]
  },
  {
   "cell_type": "code",
   "execution_count": 16,
   "id": "34209787",
   "metadata": {},
   "outputs": [
    {
     "name": "stdout",
     "output_type": "stream",
     "text": [
      "updated fruit list: ['apple', 'banana', 'pineapple', 'jackfruit', 'peach', 'durian', 'watermelon', 'mango', 'strawberry', 'passionfruit', 'dragon fruit', 'apricot', 'oranges']\n",
      "['oranges', 'apricot', 'dragon fruit', 'apple', 'banana', 'pineapple', 'jackfruit', 'peach', 'durian', 'watermelon', 'mango', 'strawberry', 'passionfruit', 'dragon fruit', 'apricot', 'oranges']\n"
     ]
    }
   ],
   "source": [
    "fruits = [\"apple\", \"banana\", \"pineapple\", \"jackfruit\",\n",
    "        \"peach\", \"durian\", \"watermelon\", \"mango\",\n",
    "        \"strawberry\", \"passionfruit\"]\n",
    "fruits.append('dragon fruit')\n",
    "fruits.append('apricot')\n",
    "fruits.append('oranges')\n",
    "print('updated fruit list:', fruits)\n",
    "\n",
    "fruits.insert(0,'dragon fruit')\n",
    "fruits.insert(0,'apricot')\n",
    "fruits.insert(0,'oranges')\n",
    "print(fruits)"
   ]
  },
  {
   "cell_type": "code",
   "execution_count": 21,
   "id": "ae2e0f74",
   "metadata": {},
   "outputs": [
    {
     "name": "stdout",
     "output_type": "stream",
     "text": [
      "['apple', 'banana', 'pineapple', 'jackfruit', 'dragon fruit', 'apricot', 'oranges', 'peach', 'durian', 'watermelon', 'mango', 'strawberry', 'passionfruit']\n"
     ]
    }
   ],
   "source": [
    "fruits = [\"apple\", \"banana\", \"pineapple\", \"jackfruit\",\n",
    "        \"peach\", \"durian\", \"watermelon\", \"mango\",\n",
    "        \"strawberry\", \"passionfruit\"]\n",
    "fruits.insert(4,'dragon fruit')\n",
    "fruits.insert(5,'apricot')\n",
    "fruits.insert(6,'oranges')\n",
    "print(fruits)"
   ]
  },
  {
   "cell_type": "code",
   "execution_count": null,
   "id": "346ca831",
   "metadata": {},
   "outputs": [],
   "source": [
    "fruits = [\"apple\", \"banana\", \"pineapple\", \"jackfruit\",\n",
    "        \"peach\", \"durian\", \"watermelon\", \"mango\",\n",
    "        \"strawberry\", \"passionfruit\"]\n",
    "long_fruits = []\n",
    "for fruit in fruits:\n",
    "    if len(fruit) > 8:\n",
    "        long_fruits.append(fruit)\n",
    "long_fruits"
   ]
  },
  {
   "cell_type": "markdown",
   "id": "47707d95",
   "metadata": {},
   "source": [
    "## Exercise 3 :  Ciao Fibonacci"
   ]
  },
  {
   "cell_type": "code",
   "execution_count": 3,
   "id": "1af4d35c",
   "metadata": {},
   "outputs": [
    {
     "data": {
      "text/plain": [
       "[0, 1, 1, 2, 3, 5, 8, 13, 21, 34, 55, 89, 144, 233, 377]"
      ]
     },
     "execution_count": 3,
     "metadata": {},
     "output_type": "execute_result"
    }
   ],
   "source": [
    "fibonnaci=[0,1]\n",
    "for i in range(2,15):\n",
    "        fibonnaci.append(sum(fibonnaci[-2:]))\n",
    "\n",
    "fibonnaci"
   ]
  },
  {
   "cell_type": "markdown",
   "id": "13592936",
   "metadata": {},
   "source": [
    "## Exercise 4 :  A function for Fibonacci"
   ]
  },
  {
   "cell_type": "code",
   "execution_count": 70,
   "id": "89f1cb6f",
   "metadata": {},
   "outputs": [],
   "source": [
    "def fibonacci(n):\n",
    "    if n < 0:\n",
    "        return \"incorrect input\"\n",
    "    elif n == 0:\n",
    "        return [0]\n",
    "    elif n == 1:\n",
    "        return [0, 1]\n",
    "    else:\n",
    "        fib_list = [0,1]\n",
    "        for i in range(2,n):\n",
    "            new = fib_list[i-1] + fib_list[i-2]\n",
    "            fib_list.append(new)\n",
    "        return fib_list"
   ]
  },
  {
   "cell_type": "code",
   "execution_count": 73,
   "id": "c259a137",
   "metadata": {},
   "outputs": [
    {
     "data": {
      "text/plain": [
       "[0, 1, 1, 2, 3, 5, 8, 13, 21, 34]"
      ]
     },
     "execution_count": 73,
     "metadata": {},
     "output_type": "execute_result"
    }
   ],
   "source": [
    "fibonacci(10)"
   ]
  },
  {
   "cell_type": "markdown",
   "id": "212e340d",
   "metadata": {},
   "source": [
    "## Exercise 5 :  max_info() without NumPy"
   ]
  },
  {
   "cell_type": "code",
   "execution_count": 31,
   "id": "dff23d8d",
   "metadata": {},
   "outputs": [
    {
     "data": {
      "text/plain": [
       "(83, 2)"
      ]
     },
     "execution_count": 31,
     "metadata": {},
     "output_type": "execute_result"
    }
   ],
   "source": [
    "def max_info(numbers):\n",
    "    my_max = numbers[0]\n",
    "    for n in numbers: \n",
    "        if n > my_max:\n",
    "            my_max = n\n",
    "    my_max_index = numbers.index(my_max)\n",
    "    return (my_max, my_max_index)\n",
    "    \n",
    "numbers = [40, 27, 83, 44, 74, 51, 76, 77, 10, 49]\n",
    "max_info(numbers)"
   ]
  },
  {
   "cell_type": "markdown",
   "id": "e1141b8f",
   "metadata": {},
   "source": [
    "## Exercise 6 :  Take count"
   ]
  },
  {
   "cell_type": "code",
   "execution_count": 2,
   "id": "8c1beb42",
   "metadata": {},
   "outputs": [
    {
     "name": "stdout",
     "output_type": "stream",
     "text": [
      "['A', 'G', 'G', 'C', 'A', 'A', 'G', 'A', 'A', 'G', 'C', 'T', 'A', 'G', 'A', 'A', 'T', 'T', 'C', 'T', 'G', 'G', 'C', 'C', 'T', 'G', 'A', 'G', 'T', 'A', 'T', 'C', 'T', 'C', 'A', 'G', 'T', 'A', 'C', 'A', 'G', 'G', 'C', 'G', 'C', 'A', 'G', 'T', 'C', 'G', 'A', 'A', 'T', 'C', 'T', 'T', 'C', 'C', 'G', 'G', 'A', 'A', 'T', 'C', 'A', 'C', 'A', 'T', 'T', 'G', 'C', 'T', 'C', 'G', 'C', 'G', 'C', 'T', 'T', 'A', 'A', 'A', 'C', 'C', 'C', 'G', 'C', 'T', 'C', 'T', 'A', 'A', 'A', 'C', 'C', 'T', 'T', 'T', 'G', 'A', 'G', 'T', 'A', 'A', 'T', 'T', 'C', 'G', 'A', 'C', 'G', 'A', 'C', 'A', 'T', 'T', 'G', 'G', 'G', 'T', 'T', 'C', 'C', 'C', 'T', 'C', 'C', 'G', 'A', 'C', 'G', 'C', 'T', 'G', 'T', 'C', 'T', 'G', 'A', 'C', 'A', 'A', 'C', 'T', 'C', 'T', 'T', 'T', 'A', 'A', 'G', 'A', 'T', 'C', 'C', 'T', 'T', 'G', 'G', 'C', 'A', 'C', 'G', 'A', 'T', 'G', 'T', 'C', 'G', 'A', 'T', 'A', 'G', 'A', 'C', 'A', 'T', 'T', 'G', 'T', 'C', 'C', 'C', 'T', 'G', 'A', 'T', 'G', 'A', 'C', 'G', 'C', 'C', 'T', 'C', 'A', 'C', 'A', 'A', 'G', 'G', 'T', 'A', 'A', 'C', 'C', 'T', 'G', 'G', 'C', 'T', 'C', 'T', 'A', 'G', 'T', 'A', 'G', 'G', 'G', 'T', 'G', 'G', 'T', 'C', 'T', 'T', 'T', 'G', 'C', 'T', 'G', 'C', 'G', 'G', 'A', 'A', 'C', 'T', 'T', 'A', 'C', 'C', 'A', 'C', 'C', 'T', 'G', 'G', 'T', 'G', 'G', 'A', 'T', 'C', 'C', 'A', 'A', 'G', 'C', 'A', 'C', 'C', 'A', 'G', 'A', 'G', 'G', 'A', 'G', 'T', 'T', 'C', 'G', 'A', 'A', 'G', 'A', 'G', 'G', 'C', 'T', 'G', 'G', 'G', 'G', 'T', 'A', 'C', 'C', 'C', 'C', 'C', 'T', 'A', 'T', 'T', 'T', 'A', 'G', 'G', 'A', 'A', 'G', 'G', 'G', 'C', 'G', 'A', 'G', 'A', 'C', 'T', 'A', 'C', 'G', 'G', 'T', 'C', 'A', 'C', 'A', 'A', 'A', 'T', 'T', 'C', 'C', 'A', 'A', 'A', 'T', 'G', 'G', 'C', 'T', 'T', 'C', 'C', 'C', 'T', 'C', 'G', 'A', 'T', 'T', 'C', 'A', 'T', 'G', 'A', 'C', 'G', 'C', 'C', 'A', 'G', 'A', 'A', 'T', 'G', 'C', 'C', 'T', 'G', 'G', 'C', 'T', 'G', 'T', 'G', 'C', 'C', 'A', 'A', 'T', 'T', 'T', 'G', 'T', 'C', 'G', 'C', 'C', 'T', 'T', 'G', 'C', 'G', 'T', 'C', 'G', 'T', 'T', 'C', 'T', 'G', 'T', 'C', 'A', 'A', 'T', 'C', 'T', 'T', 'T', 'A', 'C', 'T', 'C', 'G', 'T', 'G', 'T', 'C', 'G', 'T', 'G', 'T', 'T', 'G', 'T', 'G', 'A', 'T', 'A', 'A', 'A', 'T', 'G', 'A', 'C', 'A', 'A', 'A', 'C', 'C', 'C', 'T', 'G', 'C', 'A', 'C', 'A', 'A', 'C', 'G', 'T', 'A', 'G', 'G', 'G', 'C', 'T', 'C', 'A', 'C', 'A', 'C', 'A', 'A', 'G', 'G', 'G', 'A', 'A', 'T', 'C', 'T', 'A', 'G', 'A', 'G', 'T', 'A', 'T', 'C', 'C', 'G', 'A', 'T', 'A', 'C', 'A', 'G', 'G', 'G', 'A', 'G', 'C', 'T', 'T', 'T', 'A', 'G', 'C', 'T', 'T', 'C', 'C', 'G', 'T', 'C', 'C', 'C', 'T', 'T', 'A', 'T', 'A', 'G', 'C', 'C', 'T', 'G', 'C', 'C', 'A', 'T', 'A', 'T', 'T', 'C', 'T', 'T', 'G', 'C', 'G', 'G', 'T', 'A', 'G', 'C', 'A', 'C', 'G', 'A', 'G', 'C', 'C', 'T', 'C', 'A', 'G', 'A', 'T', 'C', 'T', 'T', 'C', 'T', 'C', 'A', 'C', 'T', 'C', 'C', 'G', 'G', 'A', 'A', 'A', 'T', 'G', 'G', 'G', 'A', 'G', 'C', 'T', 'T', 'C', 'G', 'A', 'C', 'G', 'G', 'T', 'C', 'A', 'A', 'G', 'G', 'G', 'C', 'T', 'A', 'A', 'G', 'A', 'C', 'G', 'T', 'C', 'T', 'T', 'C', 'G', 'G', 'G', 'A', 'G', 'A', 'A', 'A', 'T', 'A', 'C', 'C', 'T', 'A', 'G', 'G', 'C', 'G', 'A', 'T', 'G', 'A', 'C', 'C', 'C', 'T', 'G', 'A', 'G', 'T', 'G', 'G', 'T', 'T', 'T', 'T', 'C', 'C', 'G', 'C', 'G', 'T', 'A', 'T', 'A', 'A', 'C', 'T', 'C', 'A', 'T', 'C', 'C', 'T', 'G', 'G', 'T', 'T', 'G', 'C', 'A', 'A', 'A', 'T', 'G', 'A', 'T', 'T', 'A', 'C', 'C', 'G', 'T', 'T', 'A', 'T', 'A', 'G', 'C', 'C', 'T', 'G', 'G', 'G', 'G', 'A', 'T', 'A', 'T', 'G', 'C', 'C', 'T', 'C', 'A', 'A', 'T', 'T', 'C', 'C', 'G', 'A', 'A', 'C', 'C', 'C', 'A', 'G', 'G', 'A', 'G', 'C', 'A', 'T', 'C', 'A', 'C', 'T', 'C', 'G', 'A', 'G', 'C', 'A', 'A', 'T', 'A', 'G', 'C', 'G', 'G', 'T', 'A', 'A', 'A', 'G', 'G', 'A', 'G', 'G', 'C', 'T', 'A', 'T', 'T', 'A', 'G', 'C', 'A', 'A', 'A', 'A', 'T', 'T', 'G', 'T', 'C', 'A', 'C', 'G', 'A', 'T', 'A', 'A', 'G', 'C', 'G', 'C', 'C', 'G', 'T', 'T', 'G', 'T', 'A', 'G', 'T', 'G', 'A', 'A', 'A', 'T', 'T', 'A', 'A', 'G', 'A', 'T', 'A', 'C', 'A', 'T', 'A', 'C', 'A', 'T', 'C', 'G', 'T', 'T', 'T', 'A', 'G', 'C', 'A', 'C', 'A', 'T', 'C', 'A', 'C', 'T', 'C', 'T', 'C', 'A', 'C', 'G', 'G', 'C', 'G', 'T', 'C', 'T', 'A', 'G', 'A', 'A', 'G', 'C', 'T', 'G', 'A', 'T', 'C', 'T', 'T', 'C', 'A', 'T', 'A', 'T', 'G', 'C', 'T', 'G', 'A', 'C', 'T', 'C', 'A', 'G', 'A', 'A', 'G', 'G', 'C', 'T', 'C', 'G', 'G', 'A', 'T', 'A', 'A', 'T', 'A', 'G', 'A', 'G', 'G', 'A', 'C', 'G', 'A', 'A', 'G', 'G', 'T', 'A', 'G', 'T', 'T', 'T', 'A', 'C', 'T', 'C', 'A', 'T', 'C', 'G', 'C', 'T', 'G', 'C', 'C', 'C', 'C', 'G', 'A', 'C', 'T', 'A', 'T', 'T', 'A', 'C', 'G', 'T', 'G', 'T', 'G', 'C', 'A', 'T', 'G', 'A', 'T', 'A', 'A', 'A', 'G', 'T', 'C', 'T', 'G', 'A', 'C', 'C', 'C', 'T', 'G', 'A', 'C', 'G', 'T', 'T', 'C', 'C', 'C', 'A', 'A', 'G', 'C', 'C', 'G', 'A', 'G', 'G', 'C', 'A', 'G', 'A', 'G', 'G', 'G', 'G', 'T', 'T', 'T', 'T', 'A', 'C', 'G', 'C', 'T', 'G', 'A', 'A', 'T', 'G', 'T', 'C', 'C', 'G', 'C', 'T', 'C', 'T', 'C', 'T', 'G', 'T', 'C', 'G', 'G', 'A', 'T', 'G', 'A', 'T', 'T', 'T', 'C', 'G', 'G', 'A', 'A', 'G', 'C', 'T', 'G']\n"
     ]
    }
   ],
   "source": [
    "my_str = 'AGGCAAGAAGCTAGAATTCTGGCCTGAGTATCTCAGTACAGGCGCAGTCGAATCTTCCGGAATCACATTGCTCGCGCTTAAACCCGCTCTAAACCTTTGAGTAATTCGACGACATTGGGTTCCCTCCGACGCTGTCTGACAACTCTTTAAGATCCTTGGCACGATGTCGATAGACATTGTCCCTGATGACGCCTCACAAGGTAACCTGGCTCTAGTAGGGTGGTCTTTGCTGCGGAACTTACCACCTGGTGGATCCAAGCACCAGAGGAGTTCGAAGAGGCTGGGGTACCCCCTATTTAGGAAGGGCGAGACTACGGTCACAAATTCCAAATGGCTTCCCTCGATTCATGACGCCAGAATGCCTGGCTGTGCCAATTTGTCGCCTTGCGTCGTTCTGTCAATCTTTACTCGTGTCGTGTTGTGATAAATGACAAACCCTGCACAACGTAGGGCTCACACAAGGGAATCTAGAGTATCCGATACAGGGAGCTTTAGCTTCCGTCCCTTATAGCCTGCCATATTCTTGCGGTAGCACGAGCCTCAGATCTTCTCACTCCGGAAATGGGAGCTTCGACGGTCAAGGGCTAAGACGTCTTCGGGAGAAATACCTAGGCGATGACCCTGAGTGGTTTTCCGCGTATAACTCATCCTGGTTGCAAATGATTACCGTTATAGCCTGGGGATATGCCTCAATTCCGAACCCAGGAGCATCACTCGAGCAATAGCGGTAAAGGAGGCTATTAGCAAAATTGTCACGATAAGCGCCGTTGTAGTGAAATTAAGATACATACATCGTTTAGCACATCACTCTCACGGCGTCTAGAAGCTGATCTTCATATGCTGACTCAGAAGGCTCGGATAATAGAGGACGAAGGTAGTTTACTCATCGCTGCCCCGACTATTACGTGTGCATGATAAAGTCTGACCCTGACGTTCCCAAGCCGAGGCAGAGGGGTTTTACGCTGAATGTCCGCTCTCTGTCGGATGATTTCGGAAGCTG'\n",
    "my_list = list(my_str)\n",
    "\n",
    "print(my_list)"
   ]
  },
  {
   "cell_type": "code",
   "execution_count": 11,
   "id": "c0df2f40",
   "metadata": {},
   "outputs": [
    {
     "name": "stdout",
     "output_type": "stream",
     "text": [
      "254\n"
     ]
    }
   ],
   "source": [
    "my_str = 'AGGCAAGAAGCTAGAATTCTGGCCTGAGTATCTCAGTACAGGCGCAGTCGAATCTTCCGGAATCACATTGCTCGCGCTTAAACCCGCTCTAAACCTTTGAGTAATTCGACGACATTGGGTTCCCTCCGACGCTGTCTGACAACTCTTTAAGATCCTTGGCACGATGTCGATAGACATTGTCCCTGATGACGCCTCACAAGGTAACCTGGCTCTAGTAGGGTGGTCTTTGCTGCGGAACTTACCACCTGGTGGATCCAAGCACCAGAGGAGTTCGAAGAGGCTGGGGTACCCCCTATTTAGGAAGGGCGAGACTACGGTCACAAATTCCAAATGGCTTCCCTCGATTCATGACGCCAGAATGCCTGGCTGTGCCAATTTGTCGCCTTGCGTCGTTCTGTCAATCTTTACTCGTGTCGTGTTGTGATAAATGACAAACCCTGCACAACGTAGGGCTCACACAAGGGAATCTAGAGTATCCGATACAGGGAGCTTTAGCTTCCGTCCCTTATAGCCTGCCATATTCTTGCGGTAGCACGAGCCTCAGATCTTCTCACTCCGGAAATGGGAGCTTCGACGGTCAAGGGCTAAGACGTCTTCGGGAGAAATACCTAGGCGATGACCCTGAGTGGTTTTCCGCGTATAACTCATCCTGGTTGCAAATGATTACCGTTATAGCCTGGGGATATGCCTCAATTCCGAACCCAGGAGCATCACTCGAGCAATAGCGGTAAAGGAGGCTATTAGCAAAATTGTCACGATAAGCGCCGTTGTAGTGAAATTAAGATACATACATCGTTTAGCACATCACTCTCACGGCGTCTAGAAGCTGATCTTCATATGCTGACTCAGAAGGCTCGGATAATAGAGGACGAAGGTAGTTTACTCATCGCTGCCCCGACTATTACGTGTGCATGATAAAGTCTGACCCTGACGTTCCCAAGCCGAGGCAGAGGGGTTTTACGCTGAATGTCCGCTCTCTGTCGGATGATTTCGGAAGCTG'\n",
    "my_list = list(my_str)\n",
    "count = 0 \n",
    "for letter in my_list:\n",
    "    if (letter == 'T'):\n",
    "        count = count + 1\n",
    "\n",
    "print(count)"
   ]
  },
  {
   "cell_type": "code",
   "execution_count": 10,
   "id": "750be0b9",
   "metadata": {},
   "outputs": [
    {
     "name": "stdout",
     "output_type": "stream",
     "text": [
      "247 250 254 249\n"
     ]
    }
   ],
   "source": [
    "my_str = 'AGGCAAGAAGCTAGAATTCTGGCCTGAGTATCTCAGTACAGGCGCAGTCGAATCTTCCGGAATCACATTGCTCGCGCTTAAACCCGCTCTAAACCTTTGAGTAATTCGACGACATTGGGTTCCCTCCGACGCTGTCTGACAACTCTTTAAGATCCTTGGCACGATGTCGATAGACATTGTCCCTGATGACGCCTCACAAGGTAACCTGGCTCTAGTAGGGTGGTCTTTGCTGCGGAACTTACCACCTGGTGGATCCAAGCACCAGAGGAGTTCGAAGAGGCTGGGGTACCCCCTATTTAGGAAGGGCGAGACTACGGTCACAAATTCCAAATGGCTTCCCTCGATTCATGACGCCAGAATGCCTGGCTGTGCCAATTTGTCGCCTTGCGTCGTTCTGTCAATCTTTACTCGTGTCGTGTTGTGATAAATGACAAACCCTGCACAACGTAGGGCTCACACAAGGGAATCTAGAGTATCCGATACAGGGAGCTTTAGCTTCCGTCCCTTATAGCCTGCCATATTCTTGCGGTAGCACGAGCCTCAGATCTTCTCACTCCGGAAATGGGAGCTTCGACGGTCAAGGGCTAAGACGTCTTCGGGAGAAATACCTAGGCGATGACCCTGAGTGGTTTTCCGCGTATAACTCATCCTGGTTGCAAATGATTACCGTTATAGCCTGGGGATATGCCTCAATTCCGAACCCAGGAGCATCACTCGAGCAATAGCGGTAAAGGAGGCTATTAGCAAAATTGTCACGATAAGCGCCGTTGTAGTGAAATTAAGATACATACATCGTTTAGCACATCACTCTCACGGCGTCTAGAAGCTGATCTTCATATGCTGACTCAGAAGGCTCGGATAATAGAGGACGAAGGTAGTTTACTCATCGCTGCCCCGACTATTACGTGTGCATGATAAAGTCTGACCCTGACGTTCCCAAGCCGAGGCAGAGGGGTTTTACGCTGAATGTCCGCTCTCTGTCGGATGATTTCGGAAGCTG'\n",
    "my_list = list(my_str)\n",
    "\n",
    "a_count = 0\n",
    "c_count = 0\n",
    "t_count = 0\n",
    "g_count = 0 \n",
    "\n",
    "for letter in my_list: \n",
    "    if (letter == 'A'):\n",
    "        a_count = a_count + 1\n",
    "    elif (letter == 'C'):\n",
    "        c_count = c_count + 1\n",
    "    elif (letter == 'T'):\n",
    "        t_count = t_count + 1 \n",
    "    elif (letter == 'G'):\n",
    "        g_count = g_count + 1 \n",
    "\n",
    "print(a_count, c_count, t_count, g_count)"
   ]
  },
  {
   "cell_type": "code",
   "execution_count": 7,
   "id": "c6b39b9c",
   "metadata": {},
   "outputs": [
    {
     "data": {
      "text/plain": [
       "(array(['A', 'C', 'G', 'T'], dtype='<U1'),\n",
       " array([247, 250, 249, 254], dtype=int64))"
      ]
     },
     "execution_count": 7,
     "metadata": {},
     "output_type": "execute_result"
    }
   ],
   "source": [
    "import numpy as np \n",
    "my_array = np.array(['A', 'G', 'G', 'C', 'A', 'A', 'G', 'A', 'A', 'G', 'C', 'T', 'A', 'G', 'A', 'A', 'T', 'T', 'C', 'T', 'G', 'G', 'C', 'C', 'T', 'G', 'A', 'G', 'T', 'A', 'T', 'C', 'T', 'C', 'A', 'G', 'T', 'A', 'C', 'A', 'G', 'G', 'C', 'G', 'C', 'A', 'G', 'T', 'C', 'G', 'A', 'A', 'T', 'C', 'T', 'T', 'C', 'C', 'G', 'G', 'A', 'A', 'T', 'C', 'A', 'C', 'A', 'T', 'T', 'G', 'C', 'T', 'C', 'G', 'C', 'G', 'C', 'T', 'T', 'A', 'A', 'A', 'C', 'C', 'C', 'G', 'C', 'T', 'C', 'T', 'A', 'A', 'A', 'C', 'C', 'T', 'T', 'T', 'G', 'A', 'G', 'T', 'A', 'A', 'T', 'T', 'C', 'G', 'A', 'C', 'G', 'A', 'C', 'A', 'T', 'T', 'G', 'G', 'G', 'T', 'T', 'C', 'C', 'C', 'T', 'C', 'C', 'G', 'A', 'C', 'G', 'C', 'T', 'G', 'T', 'C', 'T', 'G', 'A', 'C', 'A', 'A', 'C', 'T', 'C', 'T', 'T', 'T', 'A', 'A', 'G', 'A', 'T', 'C', 'C', 'T', 'T', 'G', 'G', 'C', 'A', 'C', 'G', 'A', 'T', 'G', 'T', 'C', 'G', 'A', 'T', 'A', 'G', 'A', 'C', 'A', 'T', 'T', 'G', 'T', 'C', 'C', 'C', 'T', 'G', 'A', 'T', 'G', 'A', 'C', 'G', 'C', 'C', 'T', 'C', 'A', 'C', 'A', 'A', 'G', 'G', 'T', 'A', 'A', 'C', 'C', 'T', 'G', 'G', 'C', 'T', 'C', 'T', 'A', 'G', 'T', 'A', 'G', 'G', 'G', 'T', 'G', 'G', 'T', 'C', 'T', 'T', 'T', 'G', 'C', 'T', 'G', 'C', 'G', 'G', 'A', 'A', 'C', 'T', 'T', 'A', 'C', 'C', 'A', 'C', 'C', 'T', 'G', 'G', 'T', 'G', 'G', 'A', 'T', 'C', 'C', 'A', 'A', 'G', 'C', 'A', 'C', 'C', 'A', 'G', 'A', 'G', 'G', 'A', 'G', 'T', 'T', 'C', 'G', 'A', 'A', 'G', 'A', 'G', 'G', 'C', 'T', 'G', 'G', 'G', 'G', 'T', 'A', 'C', 'C', 'C', 'C', 'C', 'T', 'A', 'T', 'T', 'T', 'A', 'G', 'G', 'A', 'A', 'G', 'G', 'G', 'C', 'G', 'A', 'G', 'A', 'C', 'T', 'A', 'C', 'G', 'G', 'T', 'C', 'A', 'C', 'A', 'A', 'A', 'T', 'T', 'C', 'C', 'A', 'A', 'A', 'T', 'G', 'G', 'C', 'T', 'T', 'C', 'C', 'C', 'T', 'C', 'G', 'A', 'T', 'T', 'C', 'A', 'T', 'G', 'A', 'C', 'G', 'C', 'C', 'A', 'G', 'A', 'A', 'T', 'G', 'C', 'C', 'T', 'G', 'G', 'C', 'T', 'G', 'T', 'G', 'C', 'C', 'A', 'A', 'T', 'T', 'T', 'G', 'T', 'C', 'G', 'C', 'C', 'T', 'T', 'G', 'C', 'G', 'T', 'C', 'G', 'T', 'T', 'C', 'T', 'G', 'T', 'C', 'A', 'A', 'T', 'C', 'T', 'T', 'T', 'A', 'C', 'T', 'C', 'G', 'T', 'G', 'T', 'C', 'G', 'T', 'G', 'T', 'T', 'G', 'T', 'G', 'A', 'T', 'A', 'A', 'A', 'T', 'G', 'A', 'C', 'A', 'A', 'A', 'C', 'C', 'C', 'T', 'G', 'C', 'A', 'C', 'A', 'A', 'C', 'G', 'T', 'A', 'G', 'G', 'G', 'C', 'T', 'C', 'A', 'C', 'A', 'C', 'A', 'A', 'G', 'G', 'G', 'A', 'A', 'T', 'C', 'T', 'A', 'G', 'A', 'G', 'T', 'A', 'T', 'C', 'C', 'G', 'A', 'T', 'A', 'C', 'A', 'G', 'G', 'G', 'A', 'G', 'C', 'T', 'T', 'T', 'A', 'G', 'C', 'T', 'T', 'C', 'C', 'G', 'T', 'C', 'C', 'C', 'T', 'T', 'A', 'T', 'A', 'G', 'C', 'C', 'T', 'G', 'C', 'C', 'A', 'T', 'A', 'T', 'T', 'C', 'T', 'T', 'G', 'C', 'G', 'G', 'T', 'A', 'G', 'C', 'A', 'C', 'G', 'A', 'G', 'C', 'C', 'T', 'C', 'A', 'G', 'A', 'T', 'C', 'T', 'T', 'C', 'T', 'C', 'A', 'C', 'T', 'C', 'C', 'G', 'G', 'A', 'A', 'A', 'T', 'G', 'G', 'G', 'A', 'G', 'C', 'T', 'T', 'C', 'G', 'A', 'C', 'G', 'G', 'T', 'C', 'A', 'A', 'G', 'G', 'G', 'C', 'T', 'A', 'A', 'G', 'A', 'C', 'G', 'T', 'C', 'T', 'T', 'C', 'G', 'G', 'G', 'A', 'G', 'A', 'A', 'A', 'T', 'A', 'C', 'C', 'T', 'A', 'G', 'G', 'C', 'G', 'A', 'T', 'G', 'A', 'C', 'C', 'C', 'T', 'G', 'A', 'G', 'T', 'G', 'G', 'T', 'T', 'T', 'T', 'C', 'C', 'G', 'C', 'G', 'T', 'A', 'T', 'A', 'A', 'C', 'T', 'C', 'A', 'T', 'C', 'C', 'T', 'G', 'G', 'T', 'T', 'G', 'C', 'A', 'A', 'A', 'T', 'G', 'A', 'T', 'T', 'A', 'C', 'C', 'G', 'T', 'T', 'A', 'T', 'A', 'G', 'C', 'C', 'T', 'G', 'G', 'G', 'G', 'A', 'T', 'A', 'T', 'G', 'C', 'C', 'T', 'C', 'A', 'A', 'T', 'T', 'C', 'C', 'G', 'A', 'A', 'C', 'C', 'C', 'A', 'G', 'G', 'A', 'G', 'C', 'A', 'T', 'C', 'A', 'C', 'T', 'C', 'G', 'A', 'G', 'C', 'A', 'A', 'T', 'A', 'G', 'C', 'G', 'G', 'T', 'A', 'A', 'A', 'G', 'G', 'A', 'G', 'G', 'C', 'T', 'A', 'T', 'T', 'A', 'G', 'C', 'A', 'A', 'A', 'A', 'T', 'T', 'G', 'T', 'C', 'A', 'C', 'G', 'A', 'T', 'A', 'A', 'G', 'C', 'G', 'C', 'C', 'G', 'T', 'T', 'G', 'T', 'A', 'G', 'T', 'G', 'A', 'A', 'A', 'T', 'T', 'A', 'A', 'G', 'A', 'T', 'A', 'C', 'A', 'T', 'A', 'C', 'A', 'T', 'C', 'G', 'T', 'T', 'T', 'A', 'G', 'C', 'A', 'C', 'A', 'T', 'C', 'A', 'C', 'T', 'C', 'T', 'C', 'A', 'C', 'G', 'G', 'C', 'G', 'T', 'C', 'T', 'A', 'G', 'A', 'A', 'G', 'C', 'T', 'G', 'A', 'T', 'C', 'T', 'T', 'C', 'A', 'T', 'A', 'T', 'G', 'C', 'T', 'G', 'A', 'C', 'T', 'C', 'A', 'G', 'A', 'A', 'G', 'G', 'C', 'T', 'C', 'G', 'G', 'A', 'T', 'A', 'A', 'T', 'A', 'G', 'A', 'G', 'G', 'A', 'C', 'G', 'A', 'A', 'G', 'G', 'T', 'A', 'G', 'T', 'T', 'T', 'A', 'C', 'T', 'C', 'A', 'T', 'C', 'G', 'C', 'T', 'G', 'C', 'C', 'C', 'C', 'G', 'A', 'C', 'T', 'A', 'T', 'T', 'A', 'C', 'G', 'T', 'G', 'T', 'G', 'C', 'A', 'T', 'G', 'A', 'T', 'A', 'A', 'A', 'G', 'T', 'C', 'T', 'G', 'A', 'C', 'C', 'C', 'T', 'G', 'A', 'C', 'G', 'T', 'T', 'C', 'C', 'C', 'A', 'A', 'G', 'C', 'C', 'G', 'A', 'G', 'G', 'C', 'A', 'G', 'A', 'G', 'G', 'G', 'G', 'T', 'T', 'T', 'T', 'A', 'C', 'G', 'C', 'T', 'G', 'A', 'A', 'T', 'G', 'T', 'C', 'C', 'G', 'C', 'T', 'C', 'T', 'C', 'T', 'G', 'T', 'C', 'G', 'G', 'A', 'T', 'G', 'A', 'T', 'T', 'T', 'C', 'G', 'G', 'A', 'A', 'G', 'C', 'T', 'G'])\n",
    "np.unique(my_array, return_counts=True)"
   ]
  },
  {
   "cell_type": "code",
   "execution_count": 20,
   "id": "9e4c0d80",
   "metadata": {},
   "outputs": [
    {
     "data": {
      "text/plain": [
       "\"('A', 'G', 'G', 'C')\""
      ]
     },
     "execution_count": 20,
     "metadata": {},
     "output_type": "execute_result"
    }
   ],
   "source": [
    "import numpy as np\n",
    "my_list = ('A', 'G', 'G', 'C', 'A', 'A', 'G', 'A', 'A', 'G', 'C', 'T', 'A', 'G', 'A', 'A', 'T', 'T', 'C', 'T', 'G', 'G', 'C', 'C', 'T', 'G', 'A', 'G', 'T', 'A', 'T', 'C', 'T', 'C', 'A', 'G', 'T', 'A', 'C', 'A', 'G', 'G', 'C', 'G', 'C', 'A', 'G', 'T', 'C', 'G', 'A', 'A', 'T', 'C', 'T', 'T', 'C', 'C', 'G', 'G', 'A', 'A', 'T', 'C', 'A', 'C', 'A', 'T', 'T', 'G', 'C', 'T', 'C', 'G', 'C', 'G', 'C', 'T', 'T', 'A', 'A', 'A', 'C', 'C', 'C', 'G', 'C', 'T', 'C', 'T', 'A', 'A', 'A', 'C', 'C', 'T', 'T', 'T', 'G', 'A', 'G', 'T', 'A', 'A', 'T', 'T', 'C', 'G', 'A', 'C', 'G', 'A', 'C', 'A', 'T', 'T', 'G', 'G', 'G', 'T', 'T', 'C', 'C', 'C', 'T', 'C', 'C', 'G', 'A', 'C', 'G', 'C', 'T', 'G', 'T', 'C', 'T', 'G', 'A', 'C', 'A', 'A', 'C', 'T', 'C', 'T', 'T', 'T', 'A', 'A', 'G', 'A', 'T', 'C', 'C', 'T', 'T', 'G', 'G', 'C', 'A', 'C', 'G', 'A', 'T', 'G', 'T', 'C', 'G', 'A', 'T', 'A', 'G', 'A', 'C', 'A', 'T', 'T', 'G', 'T', 'C', 'C', 'C', 'T', 'G', 'A', 'T', 'G', 'A', 'C', 'G', 'C', 'C', 'T', 'C', 'A', 'C', 'A', 'A', 'G', 'G', 'T', 'A', 'A', 'C', 'C', 'T', 'G', 'G', 'C', 'T', 'C', 'T', 'A', 'G', 'T', 'A', 'G', 'G', 'G', 'T', 'G', 'G', 'T', 'C', 'T', 'T', 'T', 'G', 'C', 'T', 'G', 'C', 'G', 'G', 'A', 'A', 'C', 'T', 'T', 'A', 'C', 'C', 'A', 'C', 'C', 'T', 'G', 'G', 'T', 'G', 'G', 'A', 'T', 'C', 'C', 'A', 'A', 'G', 'C', 'A', 'C', 'C', 'A', 'G', 'A', 'G', 'G', 'A', 'G', 'T', 'T', 'C', 'G', 'A', 'A', 'G', 'A', 'G', 'G', 'C', 'T', 'G', 'G', 'G', 'G', 'T', 'A', 'C', 'C', 'C', 'C', 'C', 'T', 'A', 'T', 'T', 'T', 'A', 'G', 'G', 'A', 'A', 'G', 'G', 'G', 'C', 'G', 'A', 'G', 'A', 'C', 'T', 'A', 'C', 'G', 'G', 'T', 'C', 'A', 'C', 'A', 'A', 'A', 'T', 'T', 'C', 'C', 'A', 'A', 'A', 'T', 'G', 'G', 'C', 'T', 'T', 'C', 'C', 'C', 'T', 'C', 'G', 'A', 'T', 'T', 'C', 'A', 'T', 'G', 'A', 'C', 'G', 'C', 'C', 'A', 'G', 'A', 'A', 'T', 'G', 'C', 'C', 'T', 'G', 'G', 'C', 'T', 'G', 'T', 'G', 'C', 'C', 'A', 'A', 'T', 'T', 'T', 'G', 'T', 'C', 'G', 'C', 'C', 'T', 'T', 'G', 'C', 'G', 'T', 'C', 'G', 'T', 'T', 'C', 'T', 'G', 'T', 'C', 'A', 'A', 'T', 'C', 'T', 'T', 'T', 'A', 'C', 'T', 'C', 'G', 'T', 'G', 'T', 'C', 'G', 'T', 'G', 'T', 'T', 'G', 'T', 'G', 'A', 'T', 'A', 'A', 'A', 'T', 'G', 'A', 'C', 'A', 'A', 'A', 'C', 'C', 'C', 'T', 'G', 'C', 'A', 'C', 'A', 'A', 'C', 'G', 'T', 'A', 'G', 'G', 'G', 'C', 'T', 'C', 'A', 'C', 'A', 'C', 'A', 'A', 'G', 'G', 'G', 'A', 'A', 'T', 'C', 'T', 'A', 'G', 'A', 'G', 'T', 'A', 'T', 'C', 'C', 'G', 'A', 'T', 'A', 'C', 'A', 'G', 'G', 'G', 'A', 'G', 'C', 'T', 'T', 'T', 'A', 'G', 'C', 'T', 'T', 'C', 'C', 'G', 'T', 'C', 'C', 'C', 'T', 'T', 'A', 'T', 'A', 'G', 'C', 'C', 'T', 'G', 'C', 'C', 'A', 'T', 'A', 'T', 'T', 'C', 'T', 'T', 'G', 'C', 'G', 'G', 'T', 'A', 'G', 'C', 'A', 'C', 'G', 'A', 'G', 'C', 'C', 'T', 'C', 'A', 'G', 'A', 'T', 'C', 'T', 'T', 'C', 'T', 'C', 'A', 'C', 'T', 'C', 'C', 'G', 'G', 'A', 'A', 'A', 'T', 'G', 'G', 'G', 'A', 'G', 'C', 'T', 'T', 'C', 'G', 'A', 'C', 'G', 'G', 'T', 'C', 'A', 'A', 'G', 'G', 'G', 'C', 'T', 'A', 'A', 'G', 'A', 'C', 'G', 'T', 'C', 'T', 'T', 'C', 'G', 'G', 'G', 'A', 'G', 'A', 'A', 'A', 'T', 'A', 'C', 'C', 'T', 'A', 'G', 'G', 'C', 'G', 'A', 'T', 'G', 'A', 'C', 'C', 'C', 'T', 'G', 'A', 'G', 'T', 'G', 'G', 'T', 'T', 'T', 'T', 'C', 'C', 'G', 'C', 'G', 'T', 'A', 'T', 'A', 'A', 'C', 'T', 'C', 'A', 'T', 'C', 'C', 'T', 'G', 'G', 'T', 'T', 'G', 'C', 'A', 'A', 'A', 'T', 'G', 'A', 'T', 'T', 'A', 'C', 'C', 'G', 'T', 'T', 'A', 'T', 'A', 'G', 'C', 'C', 'T', 'G', 'G', 'G', 'G', 'A', 'T', 'A', 'T', 'G', 'C', 'C', 'T', 'C', 'A', 'A', 'T', 'T', 'C', 'C', 'G', 'A', 'A', 'C', 'C', 'C', 'A', 'G', 'G', 'A', 'G', 'C', 'A', 'T', 'C', 'A', 'C', 'T', 'C', 'G', 'A', 'G', 'C', 'A', 'A', 'T', 'A', 'G', 'C', 'G', 'G', 'T', 'A', 'A', 'A', 'G', 'G', 'A', 'G', 'G', 'C', 'T', 'A', 'T', 'T', 'A', 'G', 'C', 'A', 'A', 'A', 'A', 'T', 'T', 'G', 'T', 'C', 'A', 'C', 'G', 'A', 'T', 'A', 'A', 'G', 'C', 'G', 'C', 'C', 'G', 'T', 'T', 'G', 'T', 'A', 'G', 'T', 'G', 'A', 'A', 'A', 'T', 'T', 'A', 'A', 'G', 'A', 'T', 'A', 'C', 'A', 'T', 'A', 'C', 'A', 'T', 'C', 'G', 'T', 'T', 'T', 'A', 'G', 'C', 'A', 'C', 'A', 'T', 'C', 'A', 'C', 'T', 'C', 'T', 'C', 'A', 'C', 'G', 'G', 'C', 'G', 'T', 'C', 'T', 'A', 'G', 'A', 'A', 'G', 'C', 'T', 'G', 'A', 'T', 'C', 'T', 'T', 'C', 'A', 'T', 'A', 'T', 'G', 'C', 'T', 'G', 'A', 'C', 'T', 'C', 'A', 'G', 'A', 'A', 'G', 'G', 'C', 'T', 'C', 'G', 'G', 'A', 'T', 'A', 'A', 'T', 'A', 'G', 'A', 'G', 'G', 'A', 'C', 'G', 'A', 'A', 'G', 'G', 'T', 'A', 'G', 'T', 'T', 'T', 'A', 'C', 'T', 'C', 'A', 'T', 'C', 'G', 'C', 'T', 'G', 'C', 'C', 'C', 'C', 'G', 'A', 'C', 'T', 'A', 'T', 'T', 'A', 'C', 'G', 'T', 'G', 'T', 'G', 'C', 'A', 'T', 'G', 'A', 'T', 'A', 'A', 'A', 'G', 'T', 'C', 'T', 'G', 'A', 'C', 'C', 'C', 'T', 'G', 'A', 'C', 'G', 'T', 'T', 'C', 'C', 'C', 'A', 'A', 'G', 'C', 'C', 'G', 'A', 'G', 'G', 'C', 'A', 'G', 'A', 'G', 'G', 'G', 'G', 'T', 'T', 'T', 'T', 'A', 'C', 'G', 'C', 'T', 'G', 'A', 'A', 'T', 'G', 'T', 'C', 'C', 'G', 'C', 'T', 'C', 'T', 'C', 'T', 'G', 'T', 'C', 'G', 'G', 'A', 'T', 'G', 'A', 'T', 'T', 'T', 'C', 'G', 'G', 'A', 'A', 'G', 'C', 'T', 'G')\n",
    "my_list[0:4]"
   ]
  },
  {
   "cell_type": "code",
   "execution_count": null,
   "id": "d3d662f7",
   "metadata": {},
   "outputs": [],
   "source": []
  }
 ],
 "metadata": {
  "kernelspec": {
   "display_name": "Python 3 (ipykernel)",
   "language": "python",
   "name": "python3"
  },
  "language_info": {
   "codemirror_mode": {
    "name": "ipython",
    "version": 3
   },
   "file_extension": ".py",
   "mimetype": "text/x-python",
   "name": "python",
   "nbconvert_exporter": "python",
   "pygments_lexer": "ipython3",
   "version": "3.10.8"
  },
  "toc": {
   "base_numbering": 1,
   "nav_menu": {},
   "number_sections": true,
   "sideBar": true,
   "skip_h1_title": false,
   "title_cell": "Table of Contents",
   "title_sidebar": "Contents",
   "toc_cell": false,
   "toc_position": {},
   "toc_section_display": true,
   "toc_window_display": false
  },
  "vscode": {
   "interpreter": {
    "hash": "31f2aee4e71d21fbe5cf8b01ff0e069b9275f58929596ceb00d14d90e3e16cd6"
   }
  }
 },
 "nbformat": 4,
 "nbformat_minor": 5
}
